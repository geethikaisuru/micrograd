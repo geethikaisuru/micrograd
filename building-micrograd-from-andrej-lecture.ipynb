{
 "cells": [
  {
   "cell_type": "code",
   "execution_count": 1,
   "id": "74023f9f",
   "metadata": {
    "execution": {
     "iopub.execute_input": "2023-12-05T06:25:52.733270Z",
     "iopub.status.busy": "2023-12-05T06:25:52.732512Z",
     "iopub.status.idle": "2023-12-05T06:25:52.745440Z",
     "shell.execute_reply": "2023-12-05T06:25:52.744121Z"
    },
    "papermill": {
     "duration": 0.024618,
     "end_time": "2023-12-05T06:25:52.748110",
     "exception": false,
     "start_time": "2023-12-05T06:25:52.723492",
     "status": "completed"
    },
    "tags": []
   },
   "outputs": [],
   "source": [
    "import math\n",
    "import numpy as np\n",
    "import matplotlib.pyplot as plt\n",
    "%matplotlib inline"
   ]
  },
  {
   "cell_type": "code",
   "execution_count": 2,
   "id": "0a986d0b",
   "metadata": {
    "execution": {
     "iopub.execute_input": "2023-12-05T06:25:52.765391Z",
     "iopub.status.busy": "2023-12-05T06:25:52.764950Z",
     "iopub.status.idle": "2023-12-05T06:25:52.770328Z",
     "shell.execute_reply": "2023-12-05T06:25:52.769115Z"
    },
    "papermill": {
     "duration": 0.015916,
     "end_time": "2023-12-05T06:25:52.772559",
     "exception": false,
     "start_time": "2023-12-05T06:25:52.756643",
     "status": "completed"
    },
    "tags": []
   },
   "outputs": [],
   "source": [
    "h = 0.00001\n",
    "x = 3.0"
   ]
  },
  {
   "cell_type": "code",
   "execution_count": 3,
   "id": "292d30d7",
   "metadata": {
    "execution": {
     "iopub.execute_input": "2023-12-05T06:25:52.787579Z",
     "iopub.status.busy": "2023-12-05T06:25:52.786853Z",
     "iopub.status.idle": "2023-12-05T06:25:52.794244Z",
     "shell.execute_reply": "2023-12-05T06:25:52.793133Z"
    },
    "papermill": {
     "duration": 0.017672,
     "end_time": "2023-12-05T06:25:52.796684",
     "exception": false,
     "start_time": "2023-12-05T06:25:52.779012",
     "status": "completed"
    },
    "tags": []
   },
   "outputs": [
    {
     "name": "stdout",
     "output_type": "stream",
     "text": [
      "d1 4.0\n",
      "d2 4.000000999999999\n",
      "slope 0.9999999992515995\n"
     ]
    }
   ],
   "source": [
    "h = 0.000001\n",
    "\n",
    "#inputs\n",
    "a = 2.0\n",
    "b = -3.0\n",
    "c = 10.0\n",
    "d1 = a * b + c\n",
    "c += h\n",
    "d2 = a * b + c\n",
    "\n",
    "print('d1', d1)\n",
    "print('d2', d2)\n",
    "print('slope', (d2-d1)/h)\n"
   ]
  },
  {
   "cell_type": "markdown",
   "id": "aac17b2e",
   "metadata": {
    "execution": {
     "iopub.execute_input": "2023-12-05T06:18:38.638256Z",
     "iopub.status.busy": "2023-12-05T06:18:38.637745Z",
     "iopub.status.idle": "2023-12-05T06:18:38.658041Z",
     "shell.execute_reply": "2023-12-05T06:18:38.656928Z",
     "shell.execute_reply.started": "2023-12-05T06:18:38.638213Z"
    },
    "papermill": {
     "duration": 0.006179,
     "end_time": "2023-12-05T06:25:52.809328",
     "exception": false,
     "start_time": "2023-12-05T06:25:52.803149",
     "status": "completed"
    },
    "tags": []
   },
   "source": [
    "class Value:\n",
    "    def __init__(self, data, _children = (), _op ='', label =''):\n",
    "        self.data=data\n",
    "        self.grad = 0\n",
    "        self._prev = set(_children)\n",
    "        self._op = _op\n",
    "        self._backwards = lambda : None\n",
    "        self.label = label\n",
    "        \n",
    "        \n",
    "    def __repr__(self):\n",
    "        return f\"Value(data={self.data})\"\n",
    "    \n",
    "    def __add__(self, other):\n",
    "        out = Value(self.data + other.data, (self, other), '+')\n",
    "        def _backwards():\n",
    "            self.grad += 1.0 * out.grad\n",
    "            other.grad += 1.0 * out.grad\n",
    "        out._backwards = _backwards\n",
    "        return out\n",
    "    \n",
    "    def __mul__(self, other):\n",
    "        other = other if isinstance(other, Value) else Value(other)\n",
    "        out = Value(self.data * other.data, (self, other), '*')\n",
    "        \n",
    "        def _backwards():\n",
    "            self.grad += other.grad * out.grad\n",
    "            other.grad += self.grad * out.grad\n",
    "        out._backwards = _backwards\n",
    "        \n",
    "        return out\n",
    "    \n",
    "    def __rmul__(self, other):\n",
    "        return self * other\n",
    "    \n",
    "    def __pow__(self, other):\n",
    "        assert isinstance(other(int, float))\n",
    "        out = Value(self.data ** other, (self,), f'**{other}')\n",
    "                    \n",
    "        def _backwards():\n",
    "            self.grad += other * (self.data ** (other -1)) * out.grad\n",
    "            out._backward = _backward\n",
    "    \n",
    "    def __truediv__(self, other):\n",
    "        return self * (other ** -1)\n",
    "                    \n",
    "    def __neg__(self):\n",
    "                    return self * -1\n",
    "    \n",
    "    def __sub(self, other):\n",
    "                    return self + (-other)\n",
    "                    \n",
    "    def tanh(self):\n",
    "        x = self.data\n",
    "        t = np.tanh(x)\n",
    "        out = Value(t, (self,), 'tanh')\n",
    "        \n",
    "        def _backwards():\n",
    "            self.grad = (1 - t**2) * out.grad\n",
    "        out._backwards = _backwards   \n",
    "        return out\n",
    "    \n",
    "    def exp(self):\n",
    "        x = self.data\n",
    "        out = Value(math.exp(x), (self,), 'exp')\n",
    "        def _backwards():\n",
    "            self.grad += out.data * out.grad\n",
    "            \n",
    "        out.backward = _backward\n",
    "    \n",
    "    def _backwards(self):\n",
    "        \n",
    "        topo = []\n",
    "        visited = set()\n",
    "        def build_topo(v):\n",
    "            if v not in visited:\n",
    "                visited.add(v)\n",
    "                for child in v._prev:\n",
    "                    build_topo(child)\n",
    "                topo.append(v)\n",
    "        build_topo(self)\n",
    "        self.grad = 1.0\n",
    "        for node in reversed(topo):\n",
    "            node._backwards()"
   ]
  },
  {
   "cell_type": "code",
   "execution_count": 4,
   "id": "a8955272",
   "metadata": {
    "execution": {
     "iopub.execute_input": "2023-12-05T06:25:52.824356Z",
     "iopub.status.busy": "2023-12-05T06:25:52.823689Z",
     "iopub.status.idle": "2023-12-05T06:25:52.847178Z",
     "shell.execute_reply": "2023-12-05T06:25:52.845954Z"
    },
    "papermill": {
     "duration": 0.034161,
     "end_time": "2023-12-05T06:25:52.849875",
     "exception": false,
     "start_time": "2023-12-05T06:25:52.815714",
     "status": "completed"
    },
    "tags": []
   },
   "outputs": [],
   "source": [
    "class Value:\n",
    "    def __init__(self, data, _children=(), _op='', label=''):\n",
    "        self.data = data\n",
    "        self.grad = 0\n",
    "        self._prev = set(_children)\n",
    "        self._op = _op\n",
    "        self._backwards = lambda: None\n",
    "        self.label = label\n",
    "\n",
    "    def __repr__(self):\n",
    "        return f\"Value(data={self.data})\"\n",
    "\n",
    "    def __add__(self, other):\n",
    "        other = other if isinstance(other, Value) else Value(other)\n",
    "        out = Value(self.data + other.data, (self, other), '+')\n",
    "\n",
    "        def _backwards():\n",
    "            self.grad += 1.0 * out.grad\n",
    "            other.grad += 1.0 * out.grad\n",
    "\n",
    "        out._backwards = _backwards\n",
    "        return out\n",
    "\n",
    "    def __mul__(self, other):\n",
    "        other = other if isinstance(other, Value) else Value(other)\n",
    "        out = Value(self.data * other.data, (self, other), '*')\n",
    "\n",
    "        def _backwards():\n",
    "            self.grad += other.grad * out.grad\n",
    "            other.grad += self.grad * out.grad\n",
    "\n",
    "        out._backwards = _backwards\n",
    "        return out\n",
    "\n",
    "    def __rmul__(self, other):\n",
    "        return self * other\n",
    "\n",
    "    def __pow__(self, other):\n",
    "        assert isinstance(other, (int, float))\n",
    "        out = Value(self.data ** other, (self,), f'**{other}')\n",
    "\n",
    "        def _backwards():\n",
    "            self.grad += other * (self.data ** (other - 1)) * out.grad\n",
    "\n",
    "        out._backwards = _backwards\n",
    "        return out\n",
    "\n",
    "    def __truediv__(self, other):\n",
    "        return self * (other ** -1)\n",
    "\n",
    "    def __neg__(self):\n",
    "        return self * -1\n",
    "\n",
    "    def __sub__(self, other):\n",
    "        other = other if isinstance(other, Value) else Value(other)\n",
    "        out = Value(self.data - other.data, (self, other), '-')\n",
    "\n",
    "        def _backwards():\n",
    "            self.grad += 1.0 * out.grad\n",
    "            other.grad -= 1.0 * out.grad\n",
    "\n",
    "        out._backwards = _backwards\n",
    "        return out\n",
    "\n",
    "    def tanh(self):\n",
    "        x = self.data\n",
    "        t = (math.exp(2 * x) - 1) / (math.exp(2 * x) + 1)\n",
    "        out = Value(t, (self,), 'tanh')\n",
    "\n",
    "        def _backwards():\n",
    "            self.grad = (1 - t**2) * out.grad\n",
    "\n",
    "        out._backwards = _backwards\n",
    "        return out\n",
    "\n",
    "    def exp(self):\n",
    "        x = self.data\n",
    "        out = Value(math.exp(x), (self,), 'exp')\n",
    "\n",
    "        def _backwards():\n",
    "            self.grad += out.data * out.grad\n",
    "\n",
    "        out._backwards = _backwards\n",
    "        return out\n",
    "\n",
    "    def _backwards(self):\n",
    "        topo = []\n",
    "        visited = set()\n",
    "\n",
    "        def build_topo(v):\n",
    "            if v not in visited:\n",
    "                visited.add(v)\n",
    "                for child in v._prev:\n",
    "                    build_topo(child)\n",
    "                topo.append(v)\n",
    "\n",
    "        build_topo(self)\n",
    "        self.grad = 1.0\n",
    "        for node in reversed(topo):\n",
    "            node._backwards()\n"
   ]
  },
  {
   "cell_type": "markdown",
   "id": "b0851741",
   "metadata": {
    "papermill": {
     "duration": 0.006286,
     "end_time": "2023-12-05T06:25:52.862747",
     "exception": false,
     "start_time": "2023-12-05T06:25:52.856461",
     "status": "completed"
    },
    "tags": []
   },
   "source": []
  },
  {
   "cell_type": "code",
   "execution_count": 5,
   "id": "6779b630",
   "metadata": {
    "execution": {
     "iopub.execute_input": "2023-12-05T06:25:52.878716Z",
     "iopub.status.busy": "2023-12-05T06:25:52.878003Z",
     "iopub.status.idle": "2023-12-05T06:25:52.935234Z",
     "shell.execute_reply": "2023-12-05T06:25:52.933939Z"
    },
    "papermill": {
     "duration": 0.068667,
     "end_time": "2023-12-05T06:25:52.938497",
     "exception": false,
     "start_time": "2023-12-05T06:25:52.869830",
     "status": "completed"
    },
    "tags": []
   },
   "outputs": [],
   "source": [
    "from graphviz import Digraph\n",
    "\n",
    "def trace(root):\n",
    "  # builds a set of all nodes and edges in a graph\n",
    "  nodes, edges = set(), set()\n",
    "  def build(v):\n",
    "    if v not in nodes:\n",
    "      nodes.add(v)\n",
    "      for child in v._prev:\n",
    "        edges.add((child, v))\n",
    "        build(child)\n",
    "  build(root)\n",
    "  return nodes, edges\n",
    "\n",
    "def draw_dot(root):\n",
    "  dot = Digraph(format='svg', graph_attr={'rankdir': 'LR'}) # LR = left to right\n",
    "  \n",
    "  nodes, edges = trace(root)\n",
    "  for n in nodes:\n",
    "    uid = str(id(n))\n",
    "    # for any value in the graph, create a rectangular ('record') node for it\n",
    "    dot.node(name = uid, label = \"{ %s | data %.4f | grad %.4f }\" % (n.label, n.data, n.grad), shape='record')\n",
    "    if n._op:\n",
    "      # if this value is a result of some operation, create an op node for it\n",
    "      dot.node(name = uid + n._op, label = n._op)\n",
    "      # and connect this node to it\n",
    "      dot.edge(uid + n._op, uid)\n",
    "\n",
    "  for n1, n2 in edges:\n",
    "    # connect n1 to the op node of n2\n",
    "    dot.edge(str(id(n1)), str(id(n2)) + n2._op)\n",
    "\n",
    "  return dot"
   ]
  },
  {
   "cell_type": "code",
   "execution_count": 6,
   "id": "6bd17b1d",
   "metadata": {
    "execution": {
     "iopub.execute_input": "2023-12-05T06:25:52.953649Z",
     "iopub.status.busy": "2023-12-05T06:25:52.953201Z",
     "iopub.status.idle": "2023-12-05T06:25:52.961610Z",
     "shell.execute_reply": "2023-12-05T06:25:52.960424Z"
    },
    "papermill": {
     "duration": 0.018521,
     "end_time": "2023-12-05T06:25:52.963889",
     "exception": false,
     "start_time": "2023-12-05T06:25:52.945368",
     "status": "completed"
    },
    "tags": []
   },
   "outputs": [],
   "source": [
    "#inputs\n",
    "x1 = Value(2.0, label ='x1')\n",
    "x2 = Value(0.0, label ='x2')\n",
    "#weights \n",
    "w1 = Value(-3.0, label ='w1')\n",
    "w2 = Value(1.0, label ='w2')\n",
    "#bias\n",
    "b = Value(6.8813735870195432, label ='b')\n",
    "x1w1 = x1*w1 ;x1w1.label ='x1 * w1'\n",
    "x2w2 = x2*w2 ;x2w2.label ='x2 * w2'\n",
    "x1w1x2w2 =  x1w1 + x2w2; x1w1x2w2.label = 'x1w1 + x2w2'\n",
    "n = x1w1x2w2 + b; n.label = 'n'\n",
    "o = n.tanh(); o.label='o'"
   ]
  },
  {
   "cell_type": "code",
   "execution_count": 7,
   "id": "e6a64cde",
   "metadata": {
    "execution": {
     "iopub.execute_input": "2023-12-05T06:25:52.978548Z",
     "iopub.status.busy": "2023-12-05T06:25:52.978119Z",
     "iopub.status.idle": "2023-12-05T06:25:53.292172Z",
     "shell.execute_reply": "2023-12-05T06:25:53.290973Z"
    },
    "papermill": {
     "duration": 0.324212,
     "end_time": "2023-12-05T06:25:53.294533",
     "exception": false,
     "start_time": "2023-12-05T06:25:52.970321",
     "status": "completed"
    },
    "tags": []
   },
   "outputs": [
    {
     "data": {
      "image/svg+xml": [
       "<?xml version=\"1.0\" encoding=\"UTF-8\" standalone=\"no\"?>\n",
       "<!DOCTYPE svg PUBLIC \"-//W3C//DTD SVG 1.1//EN\"\n",
       " \"http://www.w3.org/Graphics/SVG/1.1/DTD/svg11.dtd\">\n",
       "<!-- Generated by graphviz version 8.1.0 (20230707.2238)\n",
       " -->\n",
       "<!-- Pages: 1 -->\n",
       "<svg width=\"1831pt\" height=\"210pt\"\n",
       " viewBox=\"0.00 0.00 1831.44 210.00\" xmlns=\"http://www.w3.org/2000/svg\" xmlns:xlink=\"http://www.w3.org/1999/xlink\">\n",
       "<g id=\"graph0\" class=\"graph\" transform=\"scale(1 1) rotate(0) translate(4 206)\">\n",
       "<polygon fill=\"white\" stroke=\"none\" points=\"-4,4 -4,-206 1827.44,-206 1827.44,4 -4,4\"/>\n",
       "<!-- 139140228953088 -->\n",
       "<g id=\"node1\" class=\"node\">\n",
       "<title>139140228953088</title>\n",
       "<polygon fill=\"none\" stroke=\"black\" points=\"0,-165.5 0,-201.5 246,-201.5 246,-165.5 0,-165.5\"/>\n",
       "<text text-anchor=\"middle\" x=\"18.5\" y=\"-179.2\" font-family=\"Times,serif\" font-size=\"14.00\">w1</text>\n",
       "<polyline fill=\"none\" stroke=\"black\" points=\"37,-166.25 37,-201.5\"/>\n",
       "<text text-anchor=\"middle\" x=\"90\" y=\"-179.2\" font-family=\"Times,serif\" font-size=\"14.00\">data &#45;3.0000</text>\n",
       "<polyline fill=\"none\" stroke=\"black\" points=\"143,-166.25 143,-201.5\"/>\n",
       "<text text-anchor=\"middle\" x=\"194.5\" y=\"-179.2\" font-family=\"Times,serif\" font-size=\"14.00\">grad 0.0000</text>\n",
       "</g>\n",
       "<!-- 139140228952320* -->\n",
       "<g id=\"node10\" class=\"node\">\n",
       "<title>139140228952320*</title>\n",
       "<ellipse fill=\"none\" stroke=\"black\" cx=\"309\" cy=\"-128.5\" rx=\"27\" ry=\"18\"/>\n",
       "<text text-anchor=\"middle\" x=\"309\" y=\"-123.83\" font-family=\"Times,serif\" font-size=\"14.00\">*</text>\n",
       "</g>\n",
       "<!-- 139140228953088&#45;&gt;139140228952320* -->\n",
       "<g id=\"edge12\" class=\"edge\">\n",
       "<title>139140228953088&#45;&gt;139140228952320*</title>\n",
       "<path fill=\"none\" stroke=\"black\" d=\"M214.85,-165.58C225.44,-162.85 236.02,-159.82 246,-156.5 256.4,-153.04 267.4,-148.41 277.21,-143.92\"/>\n",
       "<polygon fill=\"black\" stroke=\"black\" points=\"278.37,-146.77 285.92,-139.33 275.38,-140.44 278.37,-146.77\"/>\n",
       "</g>\n",
       "<!-- 139140227516448 -->\n",
       "<g id=\"node2\" class=\"node\">\n",
       "<title>139140227516448</title>\n",
       "<polygon fill=\"none\" stroke=\"black\" points=\"1225.5,-54.5 1225.5,-90.5 1455,-90.5 1455,-54.5 1225.5,-54.5\"/>\n",
       "<text text-anchor=\"middle\" x=\"1238\" y=\"-68.2\" font-family=\"Times,serif\" font-size=\"14.00\">n</text>\n",
       "<polyline fill=\"none\" stroke=\"black\" points=\"1250.5,-55.25 1250.5,-90.5\"/>\n",
       "<text text-anchor=\"middle\" x=\"1301.25\" y=\"-68.2\" font-family=\"Times,serif\" font-size=\"14.00\">data 0.8814</text>\n",
       "<polyline fill=\"none\" stroke=\"black\" points=\"1352,-55.25 1352,-90.5\"/>\n",
       "<text text-anchor=\"middle\" x=\"1403.5\" y=\"-68.2\" font-family=\"Times,serif\" font-size=\"14.00\">grad 0.0000</text>\n",
       "</g>\n",
       "<!-- 139140227514672tanh -->\n",
       "<g id=\"node12\" class=\"node\">\n",
       "<title>139140227514672tanh</title>\n",
       "<ellipse fill=\"none\" stroke=\"black\" cx=\"1524.85\" cy=\"-72.5\" rx=\"33.85\" ry=\"18\"/>\n",
       "<text text-anchor=\"middle\" x=\"1524.85\" y=\"-67.83\" font-family=\"Times,serif\" font-size=\"14.00\">tanh</text>\n",
       "</g>\n",
       "<!-- 139140227516448&#45;&gt;139140227514672tanh -->\n",
       "<g id=\"edge7\" class=\"edge\">\n",
       "<title>139140227516448&#45;&gt;139140227514672tanh</title>\n",
       "<path fill=\"none\" stroke=\"black\" d=\"M1454.81,-72.5C1463.49,-72.5 1471.88,-72.5 1479.64,-72.5\"/>\n",
       "<polygon fill=\"black\" stroke=\"black\" points=\"1479.52,-76 1489.52,-72.5 1479.52,-69 1479.52,-76\"/>\n",
       "</g>\n",
       "<!-- 139140227516448+ -->\n",
       "<g id=\"node3\" class=\"node\">\n",
       "<title>139140227516448+</title>\n",
       "<ellipse fill=\"none\" stroke=\"black\" cx=\"1162.5\" cy=\"-72.5\" rx=\"27\" ry=\"18\"/>\n",
       "<text text-anchor=\"middle\" x=\"1162.5\" y=\"-67.83\" font-family=\"Times,serif\" font-size=\"14.00\">+</text>\n",
       "</g>\n",
       "<!-- 139140227516448+&#45;&gt;139140227516448 -->\n",
       "<g id=\"edge1\" class=\"edge\">\n",
       "<title>139140227516448+&#45;&gt;139140227516448</title>\n",
       "<path fill=\"none\" stroke=\"black\" d=\"M1189.81,-72.5C1197.11,-72.5 1205.54,-72.5 1214.61,-72.5\"/>\n",
       "<polygon fill=\"black\" stroke=\"black\" points=\"1214.52,-76 1224.52,-72.5 1214.52,-69 1214.52,-76\"/>\n",
       "</g>\n",
       "<!-- 139140228953184 -->\n",
       "<g id=\"node4\" class=\"node\">\n",
       "<title>139140228953184</title>\n",
       "<polygon fill=\"none\" stroke=\"black\" points=\"4.12,-110.5 4.12,-146.5 241.88,-146.5 241.88,-110.5 4.12,-110.5\"/>\n",
       "<text text-anchor=\"middle\" x=\"20.75\" y=\"-124.2\" font-family=\"Times,serif\" font-size=\"14.00\">x1</text>\n",
       "<polyline fill=\"none\" stroke=\"black\" points=\"37.38,-111.25 37.38,-146.5\"/>\n",
       "<text text-anchor=\"middle\" x=\"88.12\" y=\"-124.2\" font-family=\"Times,serif\" font-size=\"14.00\">data 2.0000</text>\n",
       "<polyline fill=\"none\" stroke=\"black\" points=\"138.88,-111.25 138.88,-146.5\"/>\n",
       "<text text-anchor=\"middle\" x=\"190.38\" y=\"-124.2\" font-family=\"Times,serif\" font-size=\"14.00\">grad 0.0000</text>\n",
       "</g>\n",
       "<!-- 139140228953184&#45;&gt;139140228952320* -->\n",
       "<g id=\"edge8\" class=\"edge\">\n",
       "<title>139140228953184&#45;&gt;139140228952320*</title>\n",
       "<path fill=\"none\" stroke=\"black\" d=\"M241.83,-128.5C252.18,-128.5 262.06,-128.5 270.87,-128.5\"/>\n",
       "<polygon fill=\"black\" stroke=\"black\" points=\"270.8,-132 280.8,-128.5 270.8,-125 270.8,-132\"/>\n",
       "</g>\n",
       "<!-- 139140227514528 -->\n",
       "<g id=\"node5\" class=\"node\">\n",
       "<title>139140227514528</title>\n",
       "<polygon fill=\"none\" stroke=\"black\" points=\"777,-82.5 777,-118.5 1099.5,-118.5 1099.5,-82.5 777,-82.5\"/>\n",
       "<text text-anchor=\"middle\" x=\"833.75\" y=\"-96.2\" font-family=\"Times,serif\" font-size=\"14.00\">x1w1 + x2w2</text>\n",
       "<polyline fill=\"none\" stroke=\"black\" points=\"890.5,-83.25 890.5,-118.5\"/>\n",
       "<text text-anchor=\"middle\" x=\"943.5\" y=\"-96.2\" font-family=\"Times,serif\" font-size=\"14.00\">data &#45;6.0000</text>\n",
       "<polyline fill=\"none\" stroke=\"black\" points=\"996.5,-83.25 996.5,-118.5\"/>\n",
       "<text text-anchor=\"middle\" x=\"1048\" y=\"-96.2\" font-family=\"Times,serif\" font-size=\"14.00\">grad 0.0000</text>\n",
       "</g>\n",
       "<!-- 139140227514528&#45;&gt;139140227516448+ -->\n",
       "<g id=\"edge10\" class=\"edge\">\n",
       "<title>139140227514528&#45;&gt;139140227516448+</title>\n",
       "<path fill=\"none\" stroke=\"black\" d=\"M1081.89,-82.53C1097.55,-80.56 1112.31,-78.7 1124.75,-77.13\"/>\n",
       "<polygon fill=\"black\" stroke=\"black\" points=\"1125.02,-80.5 1134.5,-75.78 1124.14,-73.55 1125.02,-80.5\"/>\n",
       "</g>\n",
       "<!-- 139140227514528+ -->\n",
       "<g id=\"node6\" class=\"node\">\n",
       "<title>139140227514528+</title>\n",
       "<ellipse fill=\"none\" stroke=\"black\" cx=\"714\" cy=\"-100.5\" rx=\"27\" ry=\"18\"/>\n",
       "<text text-anchor=\"middle\" x=\"714\" y=\"-95.83\" font-family=\"Times,serif\" font-size=\"14.00\">+</text>\n",
       "</g>\n",
       "<!-- 139140227514528+&#45;&gt;139140227514528 -->\n",
       "<g id=\"edge2\" class=\"edge\">\n",
       "<title>139140227514528+&#45;&gt;139140227514528</title>\n",
       "<path fill=\"none\" stroke=\"black\" d=\"M741.37,-100.5C748.64,-100.5 757.1,-100.5 766.34,-100.5\"/>\n",
       "<polygon fill=\"black\" stroke=\"black\" points=\"766.09,-104 776.09,-100.5 766.09,-97 766.09,-104\"/>\n",
       "</g>\n",
       "<!-- 139140228944064 -->\n",
       "<g id=\"node7\" class=\"node\">\n",
       "<title>139140228944064</title>\n",
       "<polygon fill=\"none\" stroke=\"black\" points=\"374.25,-55.5 374.25,-91.5 648.75,-91.5 648.75,-55.5 374.25,-55.5\"/>\n",
       "<text text-anchor=\"middle\" x=\"409.25\" y=\"-69.2\" font-family=\"Times,serif\" font-size=\"14.00\">x2 * w2</text>\n",
       "<polyline fill=\"none\" stroke=\"black\" points=\"444.25,-56.25 444.25,-91.5\"/>\n",
       "<text text-anchor=\"middle\" x=\"495\" y=\"-69.2\" font-family=\"Times,serif\" font-size=\"14.00\">data 0.0000</text>\n",
       "<polyline fill=\"none\" stroke=\"black\" points=\"545.75,-56.25 545.75,-91.5\"/>\n",
       "<text text-anchor=\"middle\" x=\"597.25\" y=\"-69.2\" font-family=\"Times,serif\" font-size=\"14.00\">grad 0.0000</text>\n",
       "</g>\n",
       "<!-- 139140228944064&#45;&gt;139140227514528+ -->\n",
       "<g id=\"edge11\" class=\"edge\">\n",
       "<title>139140228944064&#45;&gt;139140227514528+</title>\n",
       "<path fill=\"none\" stroke=\"black\" d=\"M645.96,-91.47C656.91,-92.95 667.26,-94.34 676.4,-95.57\"/>\n",
       "<polygon fill=\"black\" stroke=\"black\" points=\"675.92,-99.17 686.3,-97.04 676.85,-92.24 675.92,-99.17\"/>\n",
       "</g>\n",
       "<!-- 139140228944064* -->\n",
       "<g id=\"node8\" class=\"node\">\n",
       "<title>139140228944064*</title>\n",
       "<ellipse fill=\"none\" stroke=\"black\" cx=\"309\" cy=\"-73.5\" rx=\"27\" ry=\"18\"/>\n",
       "<text text-anchor=\"middle\" x=\"309\" y=\"-68.83\" font-family=\"Times,serif\" font-size=\"14.00\">*</text>\n",
       "</g>\n",
       "<!-- 139140228944064*&#45;&gt;139140228944064 -->\n",
       "<g id=\"edge3\" class=\"edge\">\n",
       "<title>139140228944064*&#45;&gt;139140228944064</title>\n",
       "<path fill=\"none\" stroke=\"black\" d=\"M336.21,-73.5C344.17,-73.5 353.53,-73.5 363.72,-73.5\"/>\n",
       "<polygon fill=\"black\" stroke=\"black\" points=\"363.61,-77 373.61,-73.5 363.61,-70 363.61,-77\"/>\n",
       "</g>\n",
       "<!-- 139140228952320 -->\n",
       "<g id=\"node9\" class=\"node\">\n",
       "<title>139140228952320</title>\n",
       "<polygon fill=\"none\" stroke=\"black\" points=\"372,-110.5 372,-146.5 651,-146.5 651,-110.5 372,-110.5\"/>\n",
       "<text text-anchor=\"middle\" x=\"407\" y=\"-124.2\" font-family=\"Times,serif\" font-size=\"14.00\">x1 * w1</text>\n",
       "<polyline fill=\"none\" stroke=\"black\" points=\"442,-111.25 442,-146.5\"/>\n",
       "<text text-anchor=\"middle\" x=\"495\" y=\"-124.2\" font-family=\"Times,serif\" font-size=\"14.00\">data &#45;6.0000</text>\n",
       "<polyline fill=\"none\" stroke=\"black\" points=\"548,-111.25 548,-146.5\"/>\n",
       "<text text-anchor=\"middle\" x=\"599.5\" y=\"-124.2\" font-family=\"Times,serif\" font-size=\"14.00\">grad 0.0000</text>\n",
       "</g>\n",
       "<!-- 139140228952320&#45;&gt;139140227514528+ -->\n",
       "<g id=\"edge6\" class=\"edge\">\n",
       "<title>139140228952320&#45;&gt;139140227514528+</title>\n",
       "<path fill=\"none\" stroke=\"black\" d=\"M641.18,-110.53C653.95,-108.75 666.05,-107.06 676.55,-105.59\"/>\n",
       "<polygon fill=\"black\" stroke=\"black\" points=\"676.85,-108.94 686.27,-104.09 675.88,-102.01 676.85,-108.94\"/>\n",
       "</g>\n",
       "<!-- 139140228952320*&#45;&gt;139140228952320 -->\n",
       "<g id=\"edge4\" class=\"edge\">\n",
       "<title>139140228952320*&#45;&gt;139140228952320</title>\n",
       "<path fill=\"none\" stroke=\"black\" d=\"M336.21,-128.5C343.54,-128.5 352.06,-128.5 361.31,-128.5\"/>\n",
       "<polygon fill=\"black\" stroke=\"black\" points=\"361.05,-132 371.05,-128.5 361.05,-125 361.05,-132\"/>\n",
       "</g>\n",
       "<!-- 139140227514672 -->\n",
       "<g id=\"node11\" class=\"node\">\n",
       "<title>139140227514672</title>\n",
       "<polygon fill=\"none\" stroke=\"black\" points=\"1594.69,-54.5 1594.69,-90.5 1823.44,-90.5 1823.44,-54.5 1594.69,-54.5\"/>\n",
       "<text text-anchor=\"middle\" x=\"1606.82\" y=\"-68.2\" font-family=\"Times,serif\" font-size=\"14.00\">o</text>\n",
       "<polyline fill=\"none\" stroke=\"black\" points=\"1618.94,-55.25 1618.94,-90.5\"/>\n",
       "<text text-anchor=\"middle\" x=\"1669.69\" y=\"-68.2\" font-family=\"Times,serif\" font-size=\"14.00\">data 0.7071</text>\n",
       "<polyline fill=\"none\" stroke=\"black\" points=\"1720.44,-55.25 1720.44,-90.5\"/>\n",
       "<text text-anchor=\"middle\" x=\"1771.94\" y=\"-68.2\" font-family=\"Times,serif\" font-size=\"14.00\">grad 0.0000</text>\n",
       "</g>\n",
       "<!-- 139140227514672tanh&#45;&gt;139140227514672 -->\n",
       "<g id=\"edge5\" class=\"edge\">\n",
       "<title>139140227514672tanh&#45;&gt;139140227514672</title>\n",
       "<path fill=\"none\" stroke=\"black\" d=\"M1558.85,-72.5C1566.44,-72.5 1574.95,-72.5 1583.97,-72.5\"/>\n",
       "<polygon fill=\"black\" stroke=\"black\" points=\"1583.76,-76 1593.76,-72.5 1583.76,-69 1583.76,-76\"/>\n",
       "</g>\n",
       "<!-- 139140228951360 -->\n",
       "<g id=\"node13\" class=\"node\">\n",
       "<title>139140228951360</title>\n",
       "<polygon fill=\"none\" stroke=\"black\" points=\"823.5,-27.5 823.5,-63.5 1053,-63.5 1053,-27.5 823.5,-27.5\"/>\n",
       "<text text-anchor=\"middle\" x=\"836\" y=\"-41.2\" font-family=\"Times,serif\" font-size=\"14.00\">b</text>\n",
       "<polyline fill=\"none\" stroke=\"black\" points=\"848.5,-28.25 848.5,-63.5\"/>\n",
       "<text text-anchor=\"middle\" x=\"899.25\" y=\"-41.2\" font-family=\"Times,serif\" font-size=\"14.00\">data 6.8814</text>\n",
       "<polyline fill=\"none\" stroke=\"black\" points=\"950,-28.25 950,-63.5\"/>\n",
       "<text text-anchor=\"middle\" x=\"1001.5\" y=\"-41.2\" font-family=\"Times,serif\" font-size=\"14.00\">grad 0.0000</text>\n",
       "</g>\n",
       "<!-- 139140228951360&#45;&gt;139140227516448+ -->\n",
       "<g id=\"edge13\" class=\"edge\">\n",
       "<title>139140228951360&#45;&gt;139140227516448+</title>\n",
       "<path fill=\"none\" stroke=\"black\" d=\"M1052.98,-59.32C1078.99,-62.48 1104.81,-65.61 1124.74,-68.03\"/>\n",
       "<polygon fill=\"black\" stroke=\"black\" points=\"1124.1,-71.6 1134.45,-69.34 1124.95,-64.66 1124.1,-71.6\"/>\n",
       "</g>\n",
       "<!-- 139140228951888 -->\n",
       "<g id=\"node14\" class=\"node\">\n",
       "<title>139140228951888</title>\n",
       "<polygon fill=\"none\" stroke=\"black\" points=\"2.25,-55.5 2.25,-91.5 243.75,-91.5 243.75,-55.5 2.25,-55.5\"/>\n",
       "<text text-anchor=\"middle\" x=\"20.75\" y=\"-69.2\" font-family=\"Times,serif\" font-size=\"14.00\">w2</text>\n",
       "<polyline fill=\"none\" stroke=\"black\" points=\"39.25,-56.25 39.25,-91.5\"/>\n",
       "<text text-anchor=\"middle\" x=\"90\" y=\"-69.2\" font-family=\"Times,serif\" font-size=\"14.00\">data 1.0000</text>\n",
       "<polyline fill=\"none\" stroke=\"black\" points=\"140.75,-56.25 140.75,-91.5\"/>\n",
       "<text text-anchor=\"middle\" x=\"192.25\" y=\"-69.2\" font-family=\"Times,serif\" font-size=\"14.00\">grad 0.0000</text>\n",
       "</g>\n",
       "<!-- 139140228951888&#45;&gt;139140228944064* -->\n",
       "<g id=\"edge9\" class=\"edge\">\n",
       "<title>139140228951888&#45;&gt;139140228944064*</title>\n",
       "<path fill=\"none\" stroke=\"black\" d=\"M243.65,-73.5C253.26,-73.5 262.42,-73.5 270.67,-73.5\"/>\n",
       "<polygon fill=\"black\" stroke=\"black\" points=\"270.67,-77 280.67,-73.5 270.67,-70 270.67,-77\"/>\n",
       "</g>\n",
       "<!-- 139140228954960 -->\n",
       "<g id=\"node15\" class=\"node\">\n",
       "<title>139140228954960</title>\n",
       "<polygon fill=\"none\" stroke=\"black\" points=\"4.12,-0.5 4.12,-36.5 241.88,-36.5 241.88,-0.5 4.12,-0.5\"/>\n",
       "<text text-anchor=\"middle\" x=\"20.75\" y=\"-14.2\" font-family=\"Times,serif\" font-size=\"14.00\">x2</text>\n",
       "<polyline fill=\"none\" stroke=\"black\" points=\"37.38,-1.25 37.38,-36.5\"/>\n",
       "<text text-anchor=\"middle\" x=\"88.12\" y=\"-14.2\" font-family=\"Times,serif\" font-size=\"14.00\">data 0.0000</text>\n",
       "<polyline fill=\"none\" stroke=\"black\" points=\"138.88,-1.25 138.88,-36.5\"/>\n",
       "<text text-anchor=\"middle\" x=\"190.38\" y=\"-14.2\" font-family=\"Times,serif\" font-size=\"14.00\">grad 0.0000</text>\n",
       "</g>\n",
       "<!-- 139140228954960&#45;&gt;139140228944064* -->\n",
       "<g id=\"edge14\" class=\"edge\">\n",
       "<title>139140228954960&#45;&gt;139140228944064*</title>\n",
       "<path fill=\"none\" stroke=\"black\" d=\"M211.19,-36.43C222.98,-39.46 234.85,-42.83 246,-46.5 256.15,-49.84 266.93,-54.23 276.6,-58.48\"/>\n",
       "<polygon fill=\"black\" stroke=\"black\" points=\"275.02,-62.06 285.58,-63 277.91,-55.69 275.02,-62.06\"/>\n",
       "</g>\n",
       "</g>\n",
       "</svg>\n"
      ],
      "text/plain": [
       "<graphviz.graphs.Digraph at 0x7e8c1bebb640>"
      ]
     },
     "execution_count": 7,
     "metadata": {},
     "output_type": "execute_result"
    }
   ],
   "source": [
    "draw_dot(o)"
   ]
  },
  {
   "cell_type": "code",
   "execution_count": 8,
   "id": "657e44be",
   "metadata": {
    "execution": {
     "iopub.execute_input": "2023-12-05T06:25:53.310379Z",
     "iopub.status.busy": "2023-12-05T06:25:53.309957Z",
     "iopub.status.idle": "2023-12-05T06:25:53.314822Z",
     "shell.execute_reply": "2023-12-05T06:25:53.313692Z"
    },
    "papermill": {
     "duration": 0.01567,
     "end_time": "2023-12-05T06:25:53.317379",
     "exception": false,
     "start_time": "2023-12-05T06:25:53.301709",
     "status": "completed"
    },
    "tags": []
   },
   "outputs": [],
   "source": [
    "# 1.32.13/ 2.25.51"
   ]
  },
  {
   "cell_type": "code",
   "execution_count": 9,
   "id": "0ecf846d",
   "metadata": {
    "execution": {
     "iopub.execute_input": "2023-12-05T06:25:53.333576Z",
     "iopub.status.busy": "2023-12-05T06:25:53.332953Z",
     "iopub.status.idle": "2023-12-05T06:25:57.293517Z",
     "shell.execute_reply": "2023-12-05T06:25:57.292144Z"
    },
    "papermill": {
     "duration": 3.971892,
     "end_time": "2023-12-05T06:25:57.296370",
     "exception": false,
     "start_time": "2023-12-05T06:25:53.324478",
     "status": "completed"
    },
    "tags": []
   },
   "outputs": [],
   "source": [
    "import torch\n",
    "import random"
   ]
  },
  {
   "cell_type": "code",
   "execution_count": 10,
   "id": "80543f43",
   "metadata": {
    "execution": {
     "iopub.execute_input": "2023-12-05T06:25:57.313186Z",
     "iopub.status.busy": "2023-12-05T06:25:57.312566Z",
     "iopub.status.idle": "2023-12-05T06:25:57.421729Z",
     "shell.execute_reply": "2023-12-05T06:25:57.420180Z"
    },
    "papermill": {
     "duration": 0.120661,
     "end_time": "2023-12-05T06:25:57.424315",
     "exception": false,
     "start_time": "2023-12-05T06:25:57.303654",
     "status": "completed"
    },
    "tags": []
   },
   "outputs": [
    {
     "name": "stdout",
     "output_type": "stream",
     "text": [
      "0.7071066904050358\n",
      "---\n",
      "x2 0.5000001283844369\n",
      "w2 0.0\n",
      "x1 -1.5000003851533106\n",
      "w1 1.0000002567688737\n"
     ]
    }
   ],
   "source": [
    "x1 = torch.Tensor([2.0]).double()                ; x1.requires_grad = True\n",
    "x2 = torch.Tensor([0.0]).double()                ; x2.requires_grad = True\n",
    "w1 = torch.Tensor([-3.0]).double()               ; w1.requires_grad = True\n",
    "w2 = torch.Tensor([1.0]).double()                ; w2.requires_grad = True\n",
    "b = torch.Tensor([6.8813735870195432]).double()  ; b.requires_grad = True\n",
    "n = x1*w1 + x2*w2 + b\n",
    "o = torch.tanh(n)\n",
    "\n",
    "print(o.data.item())\n",
    "o.backward()\n",
    "\n",
    "print('---')\n",
    "print('x2', x2.grad.item())\n",
    "print('w2', w2.grad.item())\n",
    "print('x1', x1.grad.item())\n",
    "print('w1', w1.grad.item())"
   ]
  },
  {
   "cell_type": "code",
   "execution_count": 11,
   "id": "c0043c6a",
   "metadata": {
    "execution": {
     "iopub.execute_input": "2023-12-05T06:25:57.440371Z",
     "iopub.status.busy": "2023-12-05T06:25:57.439970Z",
     "iopub.status.idle": "2023-12-05T06:25:57.452114Z",
     "shell.execute_reply": "2023-12-05T06:25:57.450922Z"
    },
    "papermill": {
     "duration": 0.023124,
     "end_time": "2023-12-05T06:25:57.454605",
     "exception": false,
     "start_time": "2023-12-05T06:25:57.431481",
     "status": "completed"
    },
    "tags": []
   },
   "outputs": [],
   "source": [
    "class Neuron:\n",
    "  \n",
    "  def __init__(self, nin):\n",
    "    self.w = [Value(random.uniform(-1,1)) for _ in range(nin)]\n",
    "    self.b = Value(random.uniform(-1,1))\n",
    "  \n",
    "  def __call__(self, x):\n",
    "    # w * x + b\n",
    "    act = sum((wi*xi for wi, xi in zip(self.w, x)), self.b)\n",
    "    out = act.tanh()\n",
    "    return out\n",
    "    \n",
    "\n",
    "class Layer:\n",
    "  \n",
    "  def __init__(self, nin, nout):\n",
    "    self.neurons = [Neuron(nin) for _ in range(nout)]\n",
    "  \n",
    "  def __call__(self, x):\n",
    "    outs = [n(x) for n in self.neurons]\n",
    "    return outs[0] if len(outs) == 1 else outs\n",
    "\n",
    "class MLP:\n",
    "  \n",
    "  def __init__(self, nin, nouts):\n",
    "    sz = [nin] + nouts\n",
    "    self.layers = [Layer(sz[i], sz[i+1]) for i in range(len(nouts))]\n",
    "  \n",
    "  def __call__(self, x):\n",
    "    for layer in self.layers:\n",
    "      x = layer(x)\n",
    "    return x"
   ]
  },
  {
   "cell_type": "code",
   "execution_count": 12,
   "id": "d54abab8",
   "metadata": {
    "execution": {
     "iopub.execute_input": "2023-12-05T06:25:57.471863Z",
     "iopub.status.busy": "2023-12-05T06:25:57.470524Z",
     "iopub.status.idle": "2023-12-05T06:25:57.478925Z",
     "shell.execute_reply": "2023-12-05T06:25:57.477936Z"
    },
    "papermill": {
     "duration": 0.019227,
     "end_time": "2023-12-05T06:25:57.481137",
     "exception": false,
     "start_time": "2023-12-05T06:25:57.461910",
     "status": "completed"
    },
    "tags": []
   },
   "outputs": [
    {
     "data": {
      "text/plain": [
       "Value(data=-0.41406608521688787)"
      ]
     },
     "execution_count": 12,
     "metadata": {},
     "output_type": "execute_result"
    }
   ],
   "source": [
    "x = [2.0, 3.0, -1.0]\n",
    "n = MLP(3, [4, 4, 1])\n",
    "n(x)"
   ]
  },
  {
   "cell_type": "code",
   "execution_count": 13,
   "id": "e20536c0",
   "metadata": {
    "execution": {
     "iopub.execute_input": "2023-12-05T06:25:57.498577Z",
     "iopub.status.busy": "2023-12-05T06:25:57.497431Z",
     "iopub.status.idle": "2023-12-05T06:25:57.508447Z",
     "shell.execute_reply": "2023-12-05T06:25:57.507153Z"
    },
    "papermill": {
     "duration": 0.022689,
     "end_time": "2023-12-05T06:25:57.511118",
     "exception": false,
     "start_time": "2023-12-05T06:25:57.488429",
     "status": "completed"
    },
    "tags": []
   },
   "outputs": [
    {
     "data": {
      "text/plain": [
       "[Value(data=-0.41406608521688787),\n",
       " Value(data=0.3092190785223207),\n",
       " Value(data=0.24364536011814825),\n",
       " Value(data=0.006813165007982816)]"
      ]
     },
     "execution_count": 13,
     "metadata": {},
     "output_type": "execute_result"
    }
   ],
   "source": [
    "xs = [\n",
    "  [2.0, 3.0, -1.0],\n",
    "  [3.0, -1.0, 0.5],\n",
    "  [0.5, 1.0, 1.0],\n",
    "  [1.0, 1.0, -1.0],]\n",
    "\n",
    "ys = [1.0, -1.0, -1.0, 1.0]\n",
    "ypred = [n(x) for x in xs]\n",
    "ypred"
   ]
  },
  {
   "cell_type": "code",
   "execution_count": 14,
   "id": "567d9d50",
   "metadata": {
    "execution": {
     "iopub.execute_input": "2023-12-05T06:25:57.527985Z",
     "iopub.status.busy": "2023-12-05T06:25:57.527522Z",
     "iopub.status.idle": "2023-12-05T06:25:57.535939Z",
     "shell.execute_reply": "2023-12-05T06:25:57.534579Z"
    },
    "papermill": {
     "duration": 0.019543,
     "end_time": "2023-12-05T06:25:57.538279",
     "exception": false,
     "start_time": "2023-12-05T06:25:57.518736",
     "status": "completed"
    },
    "tags": []
   },
   "outputs": [
    {
     "data": {
      "text/plain": [
       "6.246711359872308"
      ]
     },
     "execution_count": 14,
     "metadata": {},
     "output_type": "execute_result"
    }
   ],
   "source": [
    "loss = sum([((yout - ygt) ** 2).data for ygt, yout in zip(ys, ypred)])\n",
    "loss"
   ]
  },
  {
   "cell_type": "code",
   "execution_count": null,
   "id": "5d7bb75e",
   "metadata": {
    "papermill": {
     "duration": 0.00745,
     "end_time": "2023-12-05T06:25:57.555336",
     "exception": false,
     "start_time": "2023-12-05T06:25:57.547886",
     "status": "completed"
    },
    "tags": []
   },
   "outputs": [],
   "source": []
  }
 ],
 "metadata": {
  "kaggle": {
   "accelerator": "none",
   "dataSources": [],
   "dockerImageVersionId": 30587,
   "isGpuEnabled": false,
   "isInternetEnabled": false,
   "language": "python",
   "sourceType": "notebook"
  },
  "kernelspec": {
   "display_name": "Python 3",
   "language": "python",
   "name": "python3"
  },
  "language_info": {
   "codemirror_mode": {
    "name": "ipython",
    "version": 3
   },
   "file_extension": ".py",
   "mimetype": "text/x-python",
   "name": "python",
   "nbconvert_exporter": "python",
   "pygments_lexer": "ipython3",
   "version": "3.10.12"
  },
  "papermill": {
   "default_parameters": {},
   "duration": 10.676761,
   "end_time": "2023-12-05T06:25:58.485973",
   "environment_variables": {},
   "exception": null,
   "input_path": "__notebook__.ipynb",
   "output_path": "__notebook__.ipynb",
   "parameters": {},
   "start_time": "2023-12-05T06:25:47.809212",
   "version": "2.4.0"
  }
 },
 "nbformat": 4,
 "nbformat_minor": 5
}
