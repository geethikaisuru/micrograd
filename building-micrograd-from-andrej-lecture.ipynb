{
 "cells": [
  {
   "cell_type": "code",
   "execution_count": 1,
   "id": "045d28e6",
   "metadata": {
    "execution": {
     "iopub.execute_input": "2023-12-05T07:56:49.995448Z",
     "iopub.status.busy": "2023-12-05T07:56:49.994406Z",
     "iopub.status.idle": "2023-12-05T07:56:50.007007Z",
     "shell.execute_reply": "2023-12-05T07:56:50.006168Z"
    },
    "papermill": {
     "duration": 0.024328,
     "end_time": "2023-12-05T07:56:50.009579",
     "exception": false,
     "start_time": "2023-12-05T07:56:49.985251",
     "status": "completed"
    },
    "tags": []
   },
   "outputs": [],
   "source": [
    "import math\n",
    "import numpy as np\n",
    "import matplotlib.pyplot as plt\n",
    "%matplotlib inline"
   ]
  },
  {
   "cell_type": "code",
   "execution_count": 2,
   "id": "81c84729",
   "metadata": {
    "execution": {
     "iopub.execute_input": "2023-12-05T07:56:50.027712Z",
     "iopub.status.busy": "2023-12-05T07:56:50.027019Z",
     "iopub.status.idle": "2023-12-05T07:56:50.033645Z",
     "shell.execute_reply": "2023-12-05T07:56:50.032836Z"
    },
    "papermill": {
     "duration": 0.017253,
     "end_time": "2023-12-05T07:56:50.035843",
     "exception": false,
     "start_time": "2023-12-05T07:56:50.018590",
     "status": "completed"
    },
    "tags": []
   },
   "outputs": [
    {
     "name": "stdout",
     "output_type": "stream",
     "text": [
      "d1 4.0\n",
      "d2 4.00001\n",
      "slope 0.9999999999621422\n"
     ]
    }
   ],
   "source": [
    "h = 0.00001\n",
    "x = 3.0\n",
    "#inputs\n",
    "a = 2.0\n",
    "b = -3.0\n",
    "c = 10.0\n",
    "d1 = a * b + c\n",
    "c += h\n",
    "d2 = a * b + c\n",
    "\n",
    "print('d1', d1)\n",
    "print('d2', d2)\n",
    "print('slope', (d2-d1)/h)\n"
   ]
  },
  {
   "cell_type": "markdown",
   "id": "7c67579a",
   "metadata": {
    "execution": {
     "iopub.execute_input": "2023-12-05T06:18:38.638256Z",
     "iopub.status.busy": "2023-12-05T06:18:38.637745Z",
     "iopub.status.idle": "2023-12-05T06:18:38.658041Z",
     "shell.execute_reply": "2023-12-05T06:18:38.656928Z",
     "shell.execute_reply.started": "2023-12-05T06:18:38.638213Z"
    },
    "papermill": {
     "duration": 0.006755,
     "end_time": "2023-12-05T07:56:50.049636",
     "exception": false,
     "start_time": "2023-12-05T07:56:50.042881",
     "status": "completed"
    },
    "tags": []
   },
   "source": [
    "class Value:\n",
    "    def __init__(self, data, _children = (), _op ='', label =''):\n",
    "        self.data=data\n",
    "        self.grad = 0\n",
    "        self._prev = set(_children)\n",
    "        self._op = _op\n",
    "        self._backwards = lambda : None\n",
    "        self.label = label\n",
    "        \n",
    "        \n",
    "    def __repr__(self):\n",
    "        return f\"Value(data={self.data})\"\n",
    "    \n",
    "    def __add__(self, other):\n",
    "        out = Value(self.data + other.data, (self, other), '+')\n",
    "        def _backwards():\n",
    "            self.grad += 1.0 * out.grad\n",
    "            other.grad += 1.0 * out.grad\n",
    "        out._backwards = _backwards\n",
    "        return out\n",
    "    \n",
    "    def __mul__(self, other):\n",
    "        other = other if isinstance(other, Value) else Value(other)\n",
    "        out = Value(self.data * other.data, (self, other), '*')\n",
    "        \n",
    "        def _backwards():\n",
    "            self.grad += other.grad * out.grad\n",
    "            other.grad += self.grad * out.grad\n",
    "        out._backwards = _backwards\n",
    "        \n",
    "        return out\n",
    "    \n",
    "    def __rmul__(self, other):\n",
    "        return self * other\n",
    "    \n",
    "    def __pow__(self, other):\n",
    "        assert isinstance(other(int, float))\n",
    "        out = Value(self.data ** other, (self,), f'**{other}')\n",
    "                    \n",
    "        def _backwards():\n",
    "            self.grad += other * (self.data ** (other -1)) * out.grad\n",
    "            out._backward = _backward\n",
    "    \n",
    "    def __truediv__(self, other):\n",
    "        return self * (other ** -1)\n",
    "                    \n",
    "    def __neg__(self):\n",
    "                    return self * -1\n",
    "    \n",
    "    def __sub(self, other):\n",
    "                    return self + (-other)\n",
    "                    \n",
    "    def tanh(self):\n",
    "        x = self.data\n",
    "        t = np.tanh(x)\n",
    "        out = Value(t, (self,), 'tanh')\n",
    "        \n",
    "        def _backwards():\n",
    "            self.grad = (1 - t**2) * out.grad\n",
    "        out._backwards = _backwards   \n",
    "        return out\n",
    "    \n",
    "    def exp(self):\n",
    "        x = self.data\n",
    "        out = Value(math.exp(x), (self,), 'exp')\n",
    "        def _backwards():\n",
    "            self.grad += out.data * out.grad\n",
    "            \n",
    "        out.backward = _backward\n",
    "    \n",
    "    def _backwards(self):\n",
    "        \n",
    "        topo = []\n",
    "        visited = set()\n",
    "        def build_topo(v):\n",
    "            if v not in visited:\n",
    "                visited.add(v)\n",
    "                for child in v._prev:\n",
    "                    build_topo(child)\n",
    "                topo.append(v)\n",
    "        build_topo(self)\n",
    "        self.grad = 1.0\n",
    "        for node in reversed(topo):\n",
    "            node._backwards()"
   ]
  },
  {
   "cell_type": "code",
   "execution_count": 3,
   "id": "2a13464c",
   "metadata": {
    "execution": {
     "iopub.execute_input": "2023-12-05T07:56:50.065741Z",
     "iopub.status.busy": "2023-12-05T07:56:50.065086Z",
     "iopub.status.idle": "2023-12-05T07:56:50.085852Z",
     "shell.execute_reply": "2023-12-05T07:56:50.084760Z"
    },
    "papermill": {
     "duration": 0.031823,
     "end_time": "2023-12-05T07:56:50.088408",
     "exception": false,
     "start_time": "2023-12-05T07:56:50.056585",
     "status": "completed"
    },
    "tags": []
   },
   "outputs": [],
   "source": [
    "class Value:\n",
    "  \n",
    "  def __init__(self, data, _children=(), _op='', label=''):\n",
    "    self.data = data\n",
    "    self.grad = 0.0\n",
    "    self._backward = lambda: None\n",
    "    self._prev = set(_children)\n",
    "    self._op = _op\n",
    "    self.label = label\n",
    "\n",
    "  def __repr__(self):\n",
    "    return f\"Value(data={self.data})\"\n",
    "  \n",
    "  def __add__(self, other):\n",
    "    other = other if isinstance(other, Value) else Value(other)\n",
    "    out = Value(self.data + other.data, (self, other), '+')\n",
    "    \n",
    "    def _backward():\n",
    "      self.grad += 1.0 * out.grad\n",
    "      other.grad += 1.0 * out.grad\n",
    "    out._backward = _backward\n",
    "    \n",
    "    return out\n",
    "\n",
    "  def __mul__(self, other):\n",
    "    other = other if isinstance(other, Value) else Value(other)\n",
    "    out = Value(self.data * other.data, (self, other), '*')\n",
    "    \n",
    "    def _backward():\n",
    "      self.grad += other.data * out.grad\n",
    "      other.grad += self.data * out.grad\n",
    "    out._backward = _backward\n",
    "      \n",
    "    return out\n",
    "  \n",
    "  def __pow__(self, other):\n",
    "    assert isinstance(other, (int, float)), \"only supporting int/float powers for now\"\n",
    "    out = Value(self.data**other, (self,), f'**{other}')\n",
    "\n",
    "    def _backward():\n",
    "        self.grad += other * (self.data ** (other - 1)) * out.grad\n",
    "    out._backward = _backward\n",
    "\n",
    "    return out\n",
    "  \n",
    "  def __rmul__(self, other): # other * self\n",
    "    return self * other\n",
    "\n",
    "  def __truediv__(self, other): # self / other\n",
    "    return self * other**-1\n",
    "\n",
    "  def __neg__(self): # -self\n",
    "    return self * -1\n",
    "\n",
    "  def __sub__(self, other): # self - other\n",
    "    return self + (-other)\n",
    "\n",
    "  def __radd__(self, other): # other + self\n",
    "    return self + other\n",
    "\n",
    "  def tanh(self):\n",
    "    x = self.data\n",
    "    t = (math.exp(2*x) - 1)/(math.exp(2*x) + 1)\n",
    "    out = Value(t, (self, ), 'tanh')\n",
    "    \n",
    "    def _backward():\n",
    "      self.grad += (1 - t**2) * out.grad\n",
    "    out._backward = _backward\n",
    "    \n",
    "    return out\n",
    "  \n",
    "  def exp(self):\n",
    "    x = self.data\n",
    "    out = Value(math.exp(x), (self, ), 'exp')\n",
    "    \n",
    "    def _backward():\n",
    "      self.grad += out.data * out.grad # NOTE: in the video I incorrectly used = instead of +=. Fixed here.\n",
    "    out._backward = _backward\n",
    "    \n",
    "    return out\n",
    "  \n",
    "  \n",
    "  def backward(self):\n",
    "    \n",
    "    topo = []\n",
    "    visited = set()\n",
    "    def build_topo(v):\n",
    "      if v not in visited:\n",
    "        visited.add(v)\n",
    "        for child in v._prev:\n",
    "          build_topo(child)\n",
    "        topo.append(v)\n",
    "    build_topo(self)\n",
    "    \n",
    "    self.grad = 1.0\n",
    "    for node in reversed(topo):\n",
    "      node._backward()\n",
    "\n"
   ]
  },
  {
   "cell_type": "markdown",
   "id": "a15c8171",
   "metadata": {
    "papermill": {
     "duration": 0.006804,
     "end_time": "2023-12-05T07:56:50.102422",
     "exception": false,
     "start_time": "2023-12-05T07:56:50.095618",
     "status": "completed"
    },
    "tags": []
   },
   "source": []
  },
  {
   "cell_type": "code",
   "execution_count": 4,
   "id": "2a075cb2",
   "metadata": {
    "execution": {
     "iopub.execute_input": "2023-12-05T07:56:50.118603Z",
     "iopub.status.busy": "2023-12-05T07:56:50.117899Z",
     "iopub.status.idle": "2023-12-05T07:56:50.166047Z",
     "shell.execute_reply": "2023-12-05T07:56:50.165024Z"
    },
    "papermill": {
     "duration": 0.059337,
     "end_time": "2023-12-05T07:56:50.168777",
     "exception": false,
     "start_time": "2023-12-05T07:56:50.109440",
     "status": "completed"
    },
    "tags": []
   },
   "outputs": [],
   "source": [
    "from graphviz import Digraph\n",
    "\n",
    "def trace(root):\n",
    "  # builds a set of all nodes and edges in a graph\n",
    "  nodes, edges = set(), set()\n",
    "  def build(v):\n",
    "    if v not in nodes:\n",
    "      nodes.add(v)\n",
    "      for child in v._prev:\n",
    "        edges.add((child, v))\n",
    "        build(child)\n",
    "  build(root)\n",
    "  return nodes, edges\n",
    "\n",
    "def draw_dot(root):\n",
    "  dot = Digraph(format='svg', graph_attr={'rankdir': 'LR'}) # LR = left to right\n",
    "  \n",
    "  nodes, edges = trace(root)\n",
    "  for n in nodes:\n",
    "    uid = str(id(n))\n",
    "    # for any value in the graph, create a rectangular ('record') node for it\n",
    "    dot.node(name = uid, label = \"{ %s | data %.4f | grad %.4f }\" % (n.label, n.data, n.grad), shape='record')\n",
    "    if n._op:\n",
    "      # if this value is a result of some operation, create an op node for it\n",
    "      dot.node(name = uid + n._op, label = n._op)\n",
    "      # and connect this node to it\n",
    "      dot.edge(uid + n._op, uid)\n",
    "\n",
    "  for n1, n2 in edges:\n",
    "    # connect n1 to the op node of n2\n",
    "    dot.edge(str(id(n1)), str(id(n2)) + n2._op)\n",
    "\n",
    "  return dot"
   ]
  },
  {
   "cell_type": "code",
   "execution_count": 5,
   "id": "5a915dae",
   "metadata": {
    "execution": {
     "iopub.execute_input": "2023-12-05T07:56:50.185412Z",
     "iopub.status.busy": "2023-12-05T07:56:50.184310Z",
     "iopub.status.idle": "2023-12-05T07:56:50.191362Z",
     "shell.execute_reply": "2023-12-05T07:56:50.190614Z"
    },
    "papermill": {
     "duration": 0.017638,
     "end_time": "2023-12-05T07:56:50.193609",
     "exception": false,
     "start_time": "2023-12-05T07:56:50.175971",
     "status": "completed"
    },
    "tags": []
   },
   "outputs": [],
   "source": [
    "#inputs\n",
    "x1 = Value(2.0, label ='x1')\n",
    "x2 = Value(0.0, label ='x2')\n",
    "#weights \n",
    "w1 = Value(-3.0, label ='w1')\n",
    "w2 = Value(1.0, label ='w2')\n",
    "#bias\n",
    "b = Value(6.8813735870195432, label ='b')\n",
    "x1w1 = x1*w1 ;x1w1.label ='x1 * w1'\n",
    "x2w2 = x2*w2 ;x2w2.label ='x2 * w2'\n",
    "x1w1x2w2 =  x1w1 + x2w2; x1w1x2w2.label = 'x1w1 + x2w2'\n",
    "n = x1w1x2w2 + b; n.label = 'n'\n",
    "o = n.tanh(); o.label='o'"
   ]
  },
  {
   "cell_type": "code",
   "execution_count": 6,
   "id": "266f53d6",
   "metadata": {
    "execution": {
     "iopub.execute_input": "2023-12-05T07:56:50.209768Z",
     "iopub.status.busy": "2023-12-05T07:56:50.209086Z",
     "iopub.status.idle": "2023-12-05T07:56:50.403931Z",
     "shell.execute_reply": "2023-12-05T07:56:50.402610Z"
    },
    "papermill": {
     "duration": 0.205641,
     "end_time": "2023-12-05T07:56:50.406332",
     "exception": false,
     "start_time": "2023-12-05T07:56:50.200691",
     "status": "completed"
    },
    "tags": []
   },
   "outputs": [
    {
     "data": {
      "image/svg+xml": [
       "<?xml version=\"1.0\" encoding=\"UTF-8\" standalone=\"no\"?>\n",
       "<!DOCTYPE svg PUBLIC \"-//W3C//DTD SVG 1.1//EN\"\n",
       " \"http://www.w3.org/Graphics/SVG/1.1/DTD/svg11.dtd\">\n",
       "<!-- Generated by graphviz version 8.1.0 (20230707.2238)\n",
       " -->\n",
       "<!-- Pages: 1 -->\n",
       "<svg width=\"1831pt\" height=\"210pt\"\n",
       " viewBox=\"0.00 0.00 1831.44 210.00\" xmlns=\"http://www.w3.org/2000/svg\" xmlns:xlink=\"http://www.w3.org/1999/xlink\">\n",
       "<g id=\"graph0\" class=\"graph\" transform=\"scale(1 1) rotate(0) translate(4 206)\">\n",
       "<polygon fill=\"white\" stroke=\"none\" points=\"-4,4 -4,-206 1827.44,-206 1827.44,4 -4,4\"/>\n",
       "<!-- 135783919020032 -->\n",
       "<g id=\"node1\" class=\"node\">\n",
       "<title>135783919020032</title>\n",
       "<polygon fill=\"none\" stroke=\"black\" points=\"372,-55.5 372,-91.5 651,-91.5 651,-55.5 372,-55.5\"/>\n",
       "<text text-anchor=\"middle\" x=\"407\" y=\"-69.2\" font-family=\"Times,serif\" font-size=\"14.00\">x1 * w1</text>\n",
       "<polyline fill=\"none\" stroke=\"black\" points=\"442,-56.25 442,-91.5\"/>\n",
       "<text text-anchor=\"middle\" x=\"495\" y=\"-69.2\" font-family=\"Times,serif\" font-size=\"14.00\">data &#45;6.0000</text>\n",
       "<polyline fill=\"none\" stroke=\"black\" points=\"548,-56.25 548,-91.5\"/>\n",
       "<text text-anchor=\"middle\" x=\"599.5\" y=\"-69.2\" font-family=\"Times,serif\" font-size=\"14.00\">grad 0.0000</text>\n",
       "</g>\n",
       "<!-- 135783917542448+ -->\n",
       "<g id=\"node5\" class=\"node\">\n",
       "<title>135783917542448+</title>\n",
       "<ellipse fill=\"none\" stroke=\"black\" cx=\"714\" cy=\"-100.5\" rx=\"27\" ry=\"18\"/>\n",
       "<text text-anchor=\"middle\" x=\"714\" y=\"-95.83\" font-family=\"Times,serif\" font-size=\"14.00\">+</text>\n",
       "</g>\n",
       "<!-- 135783919020032&#45;&gt;135783917542448+ -->\n",
       "<g id=\"edge12\" class=\"edge\">\n",
       "<title>135783919020032&#45;&gt;135783917542448+</title>\n",
       "<path fill=\"none\" stroke=\"black\" d=\"M645.96,-91.47C656.91,-92.95 667.26,-94.34 676.4,-95.57\"/>\n",
       "<polygon fill=\"black\" stroke=\"black\" points=\"675.92,-99.17 686.3,-97.04 676.85,-92.24 675.92,-99.17\"/>\n",
       "</g>\n",
       "<!-- 135783919020032* -->\n",
       "<g id=\"node2\" class=\"node\">\n",
       "<title>135783919020032*</title>\n",
       "<ellipse fill=\"none\" stroke=\"black\" cx=\"309\" cy=\"-73.5\" rx=\"27\" ry=\"18\"/>\n",
       "<text text-anchor=\"middle\" x=\"309\" y=\"-68.83\" font-family=\"Times,serif\" font-size=\"14.00\">*</text>\n",
       "</g>\n",
       "<!-- 135783919020032*&#45;&gt;135783919020032 -->\n",
       "<g id=\"edge1\" class=\"edge\">\n",
       "<title>135783919020032*&#45;&gt;135783919020032</title>\n",
       "<path fill=\"none\" stroke=\"black\" d=\"M336.21,-73.5C343.54,-73.5 352.06,-73.5 361.31,-73.5\"/>\n",
       "<polygon fill=\"black\" stroke=\"black\" points=\"361.05,-77 371.05,-73.5 361.05,-70 361.05,-77\"/>\n",
       "</g>\n",
       "<!-- 135783919019552 -->\n",
       "<g id=\"node3\" class=\"node\">\n",
       "<title>135783919019552</title>\n",
       "<polygon fill=\"none\" stroke=\"black\" points=\"0,-55.5 0,-91.5 246,-91.5 246,-55.5 0,-55.5\"/>\n",
       "<text text-anchor=\"middle\" x=\"18.5\" y=\"-69.2\" font-family=\"Times,serif\" font-size=\"14.00\">w1</text>\n",
       "<polyline fill=\"none\" stroke=\"black\" points=\"37,-56.25 37,-91.5\"/>\n",
       "<text text-anchor=\"middle\" x=\"90\" y=\"-69.2\" font-family=\"Times,serif\" font-size=\"14.00\">data &#45;3.0000</text>\n",
       "<polyline fill=\"none\" stroke=\"black\" points=\"143,-56.25 143,-91.5\"/>\n",
       "<text text-anchor=\"middle\" x=\"194.5\" y=\"-69.2\" font-family=\"Times,serif\" font-size=\"14.00\">grad 0.0000</text>\n",
       "</g>\n",
       "<!-- 135783919019552&#45;&gt;135783919020032* -->\n",
       "<g id=\"edge11\" class=\"edge\">\n",
       "<title>135783919019552&#45;&gt;135783919020032*</title>\n",
       "<path fill=\"none\" stroke=\"black\" d=\"M245.96,-73.5C254.72,-73.5 263.07,-73.5 270.65,-73.5\"/>\n",
       "<polygon fill=\"black\" stroke=\"black\" points=\"270.5,-77 280.5,-73.5 270.5,-70 270.5,-77\"/>\n",
       "</g>\n",
       "<!-- 135783917542448 -->\n",
       "<g id=\"node4\" class=\"node\">\n",
       "<title>135783917542448</title>\n",
       "<polygon fill=\"none\" stroke=\"black\" points=\"777,-82.5 777,-118.5 1099.5,-118.5 1099.5,-82.5 777,-82.5\"/>\n",
       "<text text-anchor=\"middle\" x=\"833.75\" y=\"-96.2\" font-family=\"Times,serif\" font-size=\"14.00\">x1w1 + x2w2</text>\n",
       "<polyline fill=\"none\" stroke=\"black\" points=\"890.5,-83.25 890.5,-118.5\"/>\n",
       "<text text-anchor=\"middle\" x=\"943.5\" y=\"-96.2\" font-family=\"Times,serif\" font-size=\"14.00\">data &#45;6.0000</text>\n",
       "<polyline fill=\"none\" stroke=\"black\" points=\"996.5,-83.25 996.5,-118.5\"/>\n",
       "<text text-anchor=\"middle\" x=\"1048\" y=\"-96.2\" font-family=\"Times,serif\" font-size=\"14.00\">grad 0.0000</text>\n",
       "</g>\n",
       "<!-- 135783917536592+ -->\n",
       "<g id=\"node10\" class=\"node\">\n",
       "<title>135783917536592+</title>\n",
       "<ellipse fill=\"none\" stroke=\"black\" cx=\"1162.5\" cy=\"-127.5\" rx=\"27\" ry=\"18\"/>\n",
       "<text text-anchor=\"middle\" x=\"1162.5\" y=\"-122.83\" font-family=\"Times,serif\" font-size=\"14.00\">+</text>\n",
       "</g>\n",
       "<!-- 135783917542448&#45;&gt;135783917536592+ -->\n",
       "<g id=\"edge10\" class=\"edge\">\n",
       "<title>135783917542448&#45;&gt;135783917536592+</title>\n",
       "<path fill=\"none\" stroke=\"black\" d=\"M1087.18,-118.47C1100.82,-120.13 1113.63,-121.68 1124.64,-123.02\"/>\n",
       "<polygon fill=\"black\" stroke=\"black\" points=\"1124.08,-126.6 1134.43,-124.33 1124.92,-119.65 1124.08,-126.6\"/>\n",
       "</g>\n",
       "<!-- 135783917542448+&#45;&gt;135783917542448 -->\n",
       "<g id=\"edge2\" class=\"edge\">\n",
       "<title>135783917542448+&#45;&gt;135783917542448</title>\n",
       "<path fill=\"none\" stroke=\"black\" d=\"M741.37,-100.5C748.64,-100.5 757.1,-100.5 766.34,-100.5\"/>\n",
       "<polygon fill=\"black\" stroke=\"black\" points=\"766.09,-104 776.09,-100.5 766.09,-97 766.09,-104\"/>\n",
       "</g>\n",
       "<!-- 135783919019696 -->\n",
       "<g id=\"node6\" class=\"node\">\n",
       "<title>135783919019696</title>\n",
       "<polygon fill=\"none\" stroke=\"black\" points=\"823.5,-137.5 823.5,-173.5 1053,-173.5 1053,-137.5 823.5,-137.5\"/>\n",
       "<text text-anchor=\"middle\" x=\"836\" y=\"-151.2\" font-family=\"Times,serif\" font-size=\"14.00\">b</text>\n",
       "<polyline fill=\"none\" stroke=\"black\" points=\"848.5,-138.25 848.5,-173.5\"/>\n",
       "<text text-anchor=\"middle\" x=\"899.25\" y=\"-151.2\" font-family=\"Times,serif\" font-size=\"14.00\">data 6.8814</text>\n",
       "<polyline fill=\"none\" stroke=\"black\" points=\"950,-138.25 950,-173.5\"/>\n",
       "<text text-anchor=\"middle\" x=\"1001.5\" y=\"-151.2\" font-family=\"Times,serif\" font-size=\"14.00\">grad 0.0000</text>\n",
       "</g>\n",
       "<!-- 135783919019696&#45;&gt;135783917536592+ -->\n",
       "<g id=\"edge13\" class=\"edge\">\n",
       "<title>135783919019696&#45;&gt;135783917536592+</title>\n",
       "<path fill=\"none\" stroke=\"black\" d=\"M1052.98,-141.17C1078.99,-137.89 1104.81,-134.64 1124.74,-132.13\"/>\n",
       "<polygon fill=\"black\" stroke=\"black\" points=\"1124.97,-135.5 1134.45,-130.78 1124.1,-128.56 1124.97,-135.5\"/>\n",
       "</g>\n",
       "<!-- 135783919013600 -->\n",
       "<g id=\"node7\" class=\"node\">\n",
       "<title>135783919013600</title>\n",
       "<polygon fill=\"none\" stroke=\"black\" points=\"4.12,-165.5 4.12,-201.5 241.88,-201.5 241.88,-165.5 4.12,-165.5\"/>\n",
       "<text text-anchor=\"middle\" x=\"20.75\" y=\"-179.2\" font-family=\"Times,serif\" font-size=\"14.00\">x2</text>\n",
       "<polyline fill=\"none\" stroke=\"black\" points=\"37.38,-166.25 37.38,-201.5\"/>\n",
       "<text text-anchor=\"middle\" x=\"88.12\" y=\"-179.2\" font-family=\"Times,serif\" font-size=\"14.00\">data 0.0000</text>\n",
       "<polyline fill=\"none\" stroke=\"black\" points=\"138.88,-166.25 138.88,-201.5\"/>\n",
       "<text text-anchor=\"middle\" x=\"190.38\" y=\"-179.2\" font-family=\"Times,serif\" font-size=\"14.00\">grad 0.0000</text>\n",
       "</g>\n",
       "<!-- 135783919022000* -->\n",
       "<g id=\"node15\" class=\"node\">\n",
       "<title>135783919022000*</title>\n",
       "<ellipse fill=\"none\" stroke=\"black\" cx=\"309\" cy=\"-128.5\" rx=\"27\" ry=\"18\"/>\n",
       "<text text-anchor=\"middle\" x=\"309\" y=\"-123.83\" font-family=\"Times,serif\" font-size=\"14.00\">*</text>\n",
       "</g>\n",
       "<!-- 135783919013600&#45;&gt;135783919022000* -->\n",
       "<g id=\"edge9\" class=\"edge\">\n",
       "<title>135783919013600&#45;&gt;135783919022000*</title>\n",
       "<path fill=\"none\" stroke=\"black\" d=\"M214.85,-165.58C225.44,-162.85 236.02,-159.82 246,-156.5 256.4,-153.04 267.4,-148.41 277.21,-143.92\"/>\n",
       "<polygon fill=\"black\" stroke=\"black\" points=\"278.37,-146.77 285.92,-139.33 275.38,-140.44 278.37,-146.77\"/>\n",
       "</g>\n",
       "<!-- 135783919019264 -->\n",
       "<g id=\"node8\" class=\"node\">\n",
       "<title>135783919019264</title>\n",
       "<polygon fill=\"none\" stroke=\"black\" points=\"2.25,-110.5 2.25,-146.5 243.75,-146.5 243.75,-110.5 2.25,-110.5\"/>\n",
       "<text text-anchor=\"middle\" x=\"20.75\" y=\"-124.2\" font-family=\"Times,serif\" font-size=\"14.00\">w2</text>\n",
       "<polyline fill=\"none\" stroke=\"black\" points=\"39.25,-111.25 39.25,-146.5\"/>\n",
       "<text text-anchor=\"middle\" x=\"90\" y=\"-124.2\" font-family=\"Times,serif\" font-size=\"14.00\">data 1.0000</text>\n",
       "<polyline fill=\"none\" stroke=\"black\" points=\"140.75,-111.25 140.75,-146.5\"/>\n",
       "<text text-anchor=\"middle\" x=\"192.25\" y=\"-124.2\" font-family=\"Times,serif\" font-size=\"14.00\">grad 0.0000</text>\n",
       "</g>\n",
       "<!-- 135783919019264&#45;&gt;135783919022000* -->\n",
       "<g id=\"edge7\" class=\"edge\">\n",
       "<title>135783919019264&#45;&gt;135783919022000*</title>\n",
       "<path fill=\"none\" stroke=\"black\" d=\"M243.65,-128.5C253.26,-128.5 262.42,-128.5 270.67,-128.5\"/>\n",
       "<polygon fill=\"black\" stroke=\"black\" points=\"270.67,-132 280.67,-128.5 270.67,-125 270.67,-132\"/>\n",
       "</g>\n",
       "<!-- 135783917536592 -->\n",
       "<g id=\"node9\" class=\"node\">\n",
       "<title>135783917536592</title>\n",
       "<polygon fill=\"none\" stroke=\"black\" points=\"1225.5,-109.5 1225.5,-145.5 1455,-145.5 1455,-109.5 1225.5,-109.5\"/>\n",
       "<text text-anchor=\"middle\" x=\"1238\" y=\"-123.2\" font-family=\"Times,serif\" font-size=\"14.00\">n</text>\n",
       "<polyline fill=\"none\" stroke=\"black\" points=\"1250.5,-110.25 1250.5,-145.5\"/>\n",
       "<text text-anchor=\"middle\" x=\"1301.25\" y=\"-123.2\" font-family=\"Times,serif\" font-size=\"14.00\">data 0.8814</text>\n",
       "<polyline fill=\"none\" stroke=\"black\" points=\"1352,-110.25 1352,-145.5\"/>\n",
       "<text text-anchor=\"middle\" x=\"1403.5\" y=\"-123.2\" font-family=\"Times,serif\" font-size=\"14.00\">grad 0.0000</text>\n",
       "</g>\n",
       "<!-- 135783917538128tanh -->\n",
       "<g id=\"node12\" class=\"node\">\n",
       "<title>135783917538128tanh</title>\n",
       "<ellipse fill=\"none\" stroke=\"black\" cx=\"1524.85\" cy=\"-127.5\" rx=\"33.85\" ry=\"18\"/>\n",
       "<text text-anchor=\"middle\" x=\"1524.85\" y=\"-122.83\" font-family=\"Times,serif\" font-size=\"14.00\">tanh</text>\n",
       "</g>\n",
       "<!-- 135783917536592&#45;&gt;135783917538128tanh -->\n",
       "<g id=\"edge6\" class=\"edge\">\n",
       "<title>135783917536592&#45;&gt;135783917538128tanh</title>\n",
       "<path fill=\"none\" stroke=\"black\" d=\"M1454.81,-127.5C1463.49,-127.5 1471.88,-127.5 1479.64,-127.5\"/>\n",
       "<polygon fill=\"black\" stroke=\"black\" points=\"1479.52,-131 1489.52,-127.5 1479.52,-124 1479.52,-131\"/>\n",
       "</g>\n",
       "<!-- 135783917536592+&#45;&gt;135783917536592 -->\n",
       "<g id=\"edge3\" class=\"edge\">\n",
       "<title>135783917536592+&#45;&gt;135783917536592</title>\n",
       "<path fill=\"none\" stroke=\"black\" d=\"M1189.81,-127.5C1197.11,-127.5 1205.54,-127.5 1214.61,-127.5\"/>\n",
       "<polygon fill=\"black\" stroke=\"black\" points=\"1214.52,-131 1224.52,-127.5 1214.52,-124 1214.52,-131\"/>\n",
       "</g>\n",
       "<!-- 135783917538128 -->\n",
       "<g id=\"node11\" class=\"node\">\n",
       "<title>135783917538128</title>\n",
       "<polygon fill=\"none\" stroke=\"black\" points=\"1594.69,-109.5 1594.69,-145.5 1823.44,-145.5 1823.44,-109.5 1594.69,-109.5\"/>\n",
       "<text text-anchor=\"middle\" x=\"1606.82\" y=\"-123.2\" font-family=\"Times,serif\" font-size=\"14.00\">o</text>\n",
       "<polyline fill=\"none\" stroke=\"black\" points=\"1618.94,-110.25 1618.94,-145.5\"/>\n",
       "<text text-anchor=\"middle\" x=\"1669.69\" y=\"-123.2\" font-family=\"Times,serif\" font-size=\"14.00\">data 0.7071</text>\n",
       "<polyline fill=\"none\" stroke=\"black\" points=\"1720.44,-110.25 1720.44,-145.5\"/>\n",
       "<text text-anchor=\"middle\" x=\"1771.94\" y=\"-123.2\" font-family=\"Times,serif\" font-size=\"14.00\">grad 0.0000</text>\n",
       "</g>\n",
       "<!-- 135783917538128tanh&#45;&gt;135783917538128 -->\n",
       "<g id=\"edge4\" class=\"edge\">\n",
       "<title>135783917538128tanh&#45;&gt;135783917538128</title>\n",
       "<path fill=\"none\" stroke=\"black\" d=\"M1558.85,-127.5C1566.44,-127.5 1574.95,-127.5 1583.97,-127.5\"/>\n",
       "<polygon fill=\"black\" stroke=\"black\" points=\"1583.76,-131 1593.76,-127.5 1583.76,-124 1583.76,-131\"/>\n",
       "</g>\n",
       "<!-- 135783919020368 -->\n",
       "<g id=\"node13\" class=\"node\">\n",
       "<title>135783919020368</title>\n",
       "<polygon fill=\"none\" stroke=\"black\" points=\"4.12,-0.5 4.12,-36.5 241.88,-36.5 241.88,-0.5 4.12,-0.5\"/>\n",
       "<text text-anchor=\"middle\" x=\"20.75\" y=\"-14.2\" font-family=\"Times,serif\" font-size=\"14.00\">x1</text>\n",
       "<polyline fill=\"none\" stroke=\"black\" points=\"37.38,-1.25 37.38,-36.5\"/>\n",
       "<text text-anchor=\"middle\" x=\"88.12\" y=\"-14.2\" font-family=\"Times,serif\" font-size=\"14.00\">data 2.0000</text>\n",
       "<polyline fill=\"none\" stroke=\"black\" points=\"138.88,-1.25 138.88,-36.5\"/>\n",
       "<text text-anchor=\"middle\" x=\"190.38\" y=\"-14.2\" font-family=\"Times,serif\" font-size=\"14.00\">grad 0.0000</text>\n",
       "</g>\n",
       "<!-- 135783919020368&#45;&gt;135783919020032* -->\n",
       "<g id=\"edge8\" class=\"edge\">\n",
       "<title>135783919020368&#45;&gt;135783919020032*</title>\n",
       "<path fill=\"none\" stroke=\"black\" d=\"M211.19,-36.43C222.98,-39.46 234.85,-42.83 246,-46.5 256.15,-49.84 266.93,-54.23 276.6,-58.48\"/>\n",
       "<polygon fill=\"black\" stroke=\"black\" points=\"275.02,-62.06 285.58,-63 277.91,-55.69 275.02,-62.06\"/>\n",
       "</g>\n",
       "<!-- 135783919022000 -->\n",
       "<g id=\"node14\" class=\"node\">\n",
       "<title>135783919022000</title>\n",
       "<polygon fill=\"none\" stroke=\"black\" points=\"374.25,-110.5 374.25,-146.5 648.75,-146.5 648.75,-110.5 374.25,-110.5\"/>\n",
       "<text text-anchor=\"middle\" x=\"409.25\" y=\"-124.2\" font-family=\"Times,serif\" font-size=\"14.00\">x2 * w2</text>\n",
       "<polyline fill=\"none\" stroke=\"black\" points=\"444.25,-111.25 444.25,-146.5\"/>\n",
       "<text text-anchor=\"middle\" x=\"495\" y=\"-124.2\" font-family=\"Times,serif\" font-size=\"14.00\">data 0.0000</text>\n",
       "<polyline fill=\"none\" stroke=\"black\" points=\"545.75,-111.25 545.75,-146.5\"/>\n",
       "<text text-anchor=\"middle\" x=\"597.25\" y=\"-124.2\" font-family=\"Times,serif\" font-size=\"14.00\">grad 0.0000</text>\n",
       "</g>\n",
       "<!-- 135783919022000&#45;&gt;135783917542448+ -->\n",
       "<g id=\"edge14\" class=\"edge\">\n",
       "<title>135783919022000&#45;&gt;135783917542448+</title>\n",
       "<path fill=\"none\" stroke=\"black\" d=\"M641.18,-110.53C653.95,-108.75 666.05,-107.06 676.55,-105.59\"/>\n",
       "<polygon fill=\"black\" stroke=\"black\" points=\"676.85,-108.94 686.27,-104.09 675.88,-102.01 676.85,-108.94\"/>\n",
       "</g>\n",
       "<!-- 135783919022000*&#45;&gt;135783919022000 -->\n",
       "<g id=\"edge5\" class=\"edge\">\n",
       "<title>135783919022000*&#45;&gt;135783919022000</title>\n",
       "<path fill=\"none\" stroke=\"black\" d=\"M336.21,-128.5C344.17,-128.5 353.53,-128.5 363.72,-128.5\"/>\n",
       "<polygon fill=\"black\" stroke=\"black\" points=\"363.61,-132 373.61,-128.5 363.61,-125 363.61,-132\"/>\n",
       "</g>\n",
       "</g>\n",
       "</svg>\n"
      ],
      "text/plain": [
       "<graphviz.graphs.Digraph at 0x7b7ea8427f70>"
      ]
     },
     "execution_count": 6,
     "metadata": {},
     "output_type": "execute_result"
    }
   ],
   "source": [
    "draw_dot(o)"
   ]
  },
  {
   "cell_type": "code",
   "execution_count": 7,
   "id": "755b1489",
   "metadata": {
    "execution": {
     "iopub.execute_input": "2023-12-05T07:56:50.423527Z",
     "iopub.status.busy": "2023-12-05T07:56:50.423146Z",
     "iopub.status.idle": "2023-12-05T07:56:50.427773Z",
     "shell.execute_reply": "2023-12-05T07:56:50.426628Z"
    },
    "papermill": {
     "duration": 0.016146,
     "end_time": "2023-12-05T07:56:50.430099",
     "exception": false,
     "start_time": "2023-12-05T07:56:50.413953",
     "status": "completed"
    },
    "tags": []
   },
   "outputs": [],
   "source": [
    "# 1.32.13/ 2.25.51"
   ]
  },
  {
   "cell_type": "code",
   "execution_count": 8,
   "id": "949c0c18",
   "metadata": {
    "execution": {
     "iopub.execute_input": "2023-12-05T07:56:50.447547Z",
     "iopub.status.busy": "2023-12-05T07:56:50.446893Z",
     "iopub.status.idle": "2023-12-05T07:56:53.743910Z",
     "shell.execute_reply": "2023-12-05T07:56:53.742855Z"
    },
    "papermill": {
     "duration": 3.309008,
     "end_time": "2023-12-05T07:56:53.746862",
     "exception": false,
     "start_time": "2023-12-05T07:56:50.437854",
     "status": "completed"
    },
    "tags": []
   },
   "outputs": [],
   "source": [
    "import torch\n",
    "import random"
   ]
  },
  {
   "cell_type": "code",
   "execution_count": 9,
   "id": "4d3d0964",
   "metadata": {
    "execution": {
     "iopub.execute_input": "2023-12-05T07:56:53.764305Z",
     "iopub.status.busy": "2023-12-05T07:56:53.763425Z",
     "iopub.status.idle": "2023-12-05T07:56:53.849652Z",
     "shell.execute_reply": "2023-12-05T07:56:53.847677Z"
    },
    "papermill": {
     "duration": 0.097687,
     "end_time": "2023-12-05T07:56:53.852074",
     "exception": false,
     "start_time": "2023-12-05T07:56:53.754387",
     "status": "completed"
    },
    "tags": []
   },
   "outputs": [
    {
     "name": "stdout",
     "output_type": "stream",
     "text": [
      "0.7071066904050358\n",
      "---\n",
      "x2 0.5000001283844369\n",
      "w2 0.0\n",
      "x1 -1.5000003851533106\n",
      "w1 1.0000002567688737\n"
     ]
    }
   ],
   "source": [
    "x1 = torch.Tensor([2.0]).double()                ; x1.requires_grad = True\n",
    "x2 = torch.Tensor([0.0]).double()                ; x2.requires_grad = True\n",
    "w1 = torch.Tensor([-3.0]).double()               ; w1.requires_grad = True\n",
    "w2 = torch.Tensor([1.0]).double()                ; w2.requires_grad = True\n",
    "b = torch.Tensor([6.8813735870195432]).double()  ; b.requires_grad = True\n",
    "n = x1*w1 + x2*w2 + b\n",
    "o = torch.tanh(n)\n",
    "\n",
    "print(o.data.item())\n",
    "o.backward()\n",
    "\n",
    "print('---')\n",
    "print('x2', x2.grad.item())\n",
    "print('w2', w2.grad.item())\n",
    "print('x1', x1.grad.item())\n",
    "print('w1', w1.grad.item())"
   ]
  },
  {
   "cell_type": "code",
   "execution_count": 10,
   "id": "bd74c698",
   "metadata": {
    "execution": {
     "iopub.execute_input": "2023-12-05T07:56:53.869830Z",
     "iopub.status.busy": "2023-12-05T07:56:53.869411Z",
     "iopub.status.idle": "2023-12-05T07:56:53.883061Z",
     "shell.execute_reply": "2023-12-05T07:56:53.881894Z"
    },
    "papermill": {
     "duration": 0.025539,
     "end_time": "2023-12-05T07:56:53.885351",
     "exception": false,
     "start_time": "2023-12-05T07:56:53.859812",
     "status": "completed"
    },
    "tags": []
   },
   "outputs": [],
   "source": [
    "class Neuron:\n",
    "  \n",
    "  def __init__(self, nin):\n",
    "    self.w = [Value(random.uniform(-1,1)) for _ in range(nin)]\n",
    "    self.b = Value(random.uniform(-1,1))\n",
    "  \n",
    "  def __call__(self, x):\n",
    "    # w * x + b\n",
    "    act = sum((wi*xi for wi, xi in zip(self.w, x)), self.b)\n",
    "    out = act.tanh()\n",
    "    return out\n",
    "\n",
    "  def parameters(self):\n",
    "    return self.w + [self.b]\n",
    "        \n",
    "    \n",
    "\n",
    "class Layer:\n",
    "  \n",
    "  def __init__(self, nin, nout):\n",
    "    self.neurons = [Neuron(nin) for _ in range(nout)]\n",
    "  \n",
    "  def __call__(self, x):\n",
    "    outs = [n(x) for n in self.neurons]\n",
    "    return outs[0] if len(outs) == 1 else outs\n",
    "\n",
    "  def parameters(self):\n",
    "        return [p for neuron in self.neurons for p in neuron.parameters()]\n",
    "\n",
    "class MLP:\n",
    "  \n",
    "  def __init__(self, nin, nouts):\n",
    "    sz = [nin] + nouts\n",
    "    self.layers = [Layer(sz[i], sz[i+1]) for i in range(len(nouts))]\n",
    "  \n",
    "  def __call__(self, x):\n",
    "    for layer in self.layers:\n",
    "      x = layer(x)\n",
    "    return x\n",
    "\n",
    "  def parameters(self):\n",
    "    return [p for layer in self.layers for p in layer.parameters()]"
   ]
  },
  {
   "cell_type": "code",
   "execution_count": 11,
   "id": "4c069630",
   "metadata": {
    "execution": {
     "iopub.execute_input": "2023-12-05T07:56:53.902593Z",
     "iopub.status.busy": "2023-12-05T07:56:53.901612Z",
     "iopub.status.idle": "2023-12-05T07:56:53.909947Z",
     "shell.execute_reply": "2023-12-05T07:56:53.908875Z"
    },
    "papermill": {
     "duration": 0.019242,
     "end_time": "2023-12-05T07:56:53.912120",
     "exception": false,
     "start_time": "2023-12-05T07:56:53.892878",
     "status": "completed"
    },
    "tags": []
   },
   "outputs": [
    {
     "data": {
      "text/plain": [
       "Value(data=0.5815028993562126)"
      ]
     },
     "execution_count": 11,
     "metadata": {},
     "output_type": "execute_result"
    }
   ],
   "source": [
    "x = [2.0, 3.0, -1.0]\n",
    "n = MLP(3, [4, 4, 1])\n",
    "n(x)"
   ]
  },
  {
   "cell_type": "code",
   "execution_count": 12,
   "id": "2f83e0e5",
   "metadata": {
    "execution": {
     "iopub.execute_input": "2023-12-05T07:56:53.929599Z",
     "iopub.status.busy": "2023-12-05T07:56:53.928806Z",
     "iopub.status.idle": "2023-12-05T07:56:53.948151Z",
     "shell.execute_reply": "2023-12-05T07:56:53.947301Z"
    },
    "papermill": {
     "duration": 0.030812,
     "end_time": "2023-12-05T07:56:53.950593",
     "exception": false,
     "start_time": "2023-12-05T07:56:53.919781",
     "status": "completed"
    },
    "tags": []
   },
   "outputs": [],
   "source": [
    "xs = [\n",
    "  [2.0, 3.0, -1.0],\n",
    "  [3.0, -1.0, 0.5],\n",
    "  [0.5, 1.0, 1.0],\n",
    "  [1.0, 1.0, -1.0],]\n",
    "\n",
    "ys = [1.0, -1.0, -1.0, 1.0]\n",
    "ypred = [n(x) for x in xs]\n",
    "ypred\n",
    "\n",
    "ys_tensor = torch.tensor(ys, dtype=torch.double)\n",
    "ypred_tensor = torch.tensor([y.data for y in ypred], dtype=torch.double)\n",
    "loss_tensor = torch.sum((ypred_tensor - ys_tensor) ** 2)"
   ]
  },
  {
   "cell_type": "code",
   "execution_count": 13,
   "id": "944b953c",
   "metadata": {
    "execution": {
     "iopub.execute_input": "2023-12-05T07:56:53.967871Z",
     "iopub.status.busy": "2023-12-05T07:56:53.967431Z",
     "iopub.status.idle": "2023-12-05T07:56:53.974360Z",
     "shell.execute_reply": "2023-12-05T07:56:53.973594Z"
    },
    "papermill": {
     "duration": 0.018376,
     "end_time": "2023-12-05T07:56:53.976762",
     "exception": false,
     "start_time": "2023-12-05T07:56:53.958386",
     "status": "completed"
    },
    "tags": []
   },
   "outputs": [
    {
     "data": {
      "text/plain": [
       "2.5237092580218032"
      ]
     },
     "execution_count": 13,
     "metadata": {},
     "output_type": "execute_result"
    }
   ],
   "source": [
    "loss = sum([((yout - ygt) ** 2).data for ygt, yout in zip(ys, ypred)])\n",
    "loss"
   ]
  },
  {
   "cell_type": "code",
   "execution_count": 14,
   "id": "5fd60743",
   "metadata": {
    "execution": {
     "iopub.execute_input": "2023-12-05T07:56:53.994520Z",
     "iopub.status.busy": "2023-12-05T07:56:53.994128Z",
     "iopub.status.idle": "2023-12-05T07:56:54.002340Z",
     "shell.execute_reply": "2023-12-05T07:56:54.001196Z"
    },
    "papermill": {
     "duration": 0.020103,
     "end_time": "2023-12-05T07:56:54.004851",
     "exception": false,
     "start_time": "2023-12-05T07:56:53.984748",
     "status": "completed"
    },
    "tags": []
   },
   "outputs": [
    {
     "data": {
      "text/plain": [
       "[Value(data=-0.897483381519373),\n",
       " Value(data=0.8552899972471257),\n",
       " Value(data=0.977289063195695),\n",
       " Value(data=-0.9526621078211193),\n",
       " Value(data=-0.5245249434184183),\n",
       " Value(data=-0.8673653183903844),\n",
       " Value(data=-0.732118181602758),\n",
       " Value(data=0.20951172448915756),\n",
       " Value(data=-0.08675540761090983),\n",
       " Value(data=-0.4734096473575604),\n",
       " Value(data=-0.9546091007622934),\n",
       " Value(data=-0.9816660890011517),\n",
       " Value(data=-0.20961106229173398),\n",
       " Value(data=0.7364648131600837),\n",
       " Value(data=-0.8172828075588328),\n",
       " Value(data=0.5364839350084405),\n",
       " Value(data=0.8651248496178889),\n",
       " Value(data=-0.8822503638287791),\n",
       " Value(data=0.699910725753679),\n",
       " Value(data=-0.8615897272129247),\n",
       " Value(data=0.8234838621086924),\n",
       " Value(data=-0.18060654334374981),\n",
       " Value(data=-0.21238002637498798),\n",
       " Value(data=0.7017954374086384),\n",
       " Value(data=0.7455498547086947),\n",
       " Value(data=-0.9274057407215928),\n",
       " Value(data=-0.014402684681954492),\n",
       " Value(data=-0.8227816098029941),\n",
       " Value(data=-0.706484884719174),\n",
       " Value(data=-0.7380328772338336),\n",
       " Value(data=-0.6805155913432457),\n",
       " Value(data=-0.17882847360319665),\n",
       " Value(data=0.9557957662633341),\n",
       " Value(data=0.7886612786606735),\n",
       " Value(data=-0.19132988350550018),\n",
       " Value(data=-0.4466505554566662),\n",
       " Value(data=-0.3593437315938137),\n",
       " Value(data=0.8159534437536347),\n",
       " Value(data=0.29080196440571826),\n",
       " Value(data=-0.09947837786003677),\n",
       " Value(data=0.7387232115434559)]"
      ]
     },
     "execution_count": 14,
     "metadata": {},
     "output_type": "execute_result"
    }
   ],
   "source": [
    "n.parameters()"
   ]
  },
  {
   "cell_type": "code",
   "execution_count": 15,
   "id": "a744c1d5",
   "metadata": {
    "execution": {
     "iopub.execute_input": "2023-12-05T07:56:54.023213Z",
     "iopub.status.busy": "2023-12-05T07:56:54.022806Z",
     "iopub.status.idle": "2023-12-05T07:56:54.179268Z",
     "shell.execute_reply": "2023-12-05T07:56:54.178474Z"
    },
    "papermill": {
     "duration": 0.168418,
     "end_time": "2023-12-05T07:56:54.181431",
     "exception": false,
     "start_time": "2023-12-05T07:56:54.013013",
     "status": "completed"
    },
    "tags": []
   },
   "outputs": [
    {
     "name": "stdout",
     "output_type": "stream",
     "text": [
      "0 2.5237092580218032\n",
      "1 0.9536927519317403\n",
      "2 0.47879986779185646\n",
      "3 0.30741984770232994\n",
      "4 0.2231159921495848\n",
      "5 0.17313392622361073\n",
      "6 0.14050795109934155\n",
      "7 0.11772175108763015\n",
      "8 0.10099641246923427\n",
      "9 0.088244900827074\n",
      "10 0.07822843434061065\n",
      "11 0.07016873769577037\n",
      "12 0.06355391706359012\n",
      "13 0.0580343406177083\n",
      "14 0.05336354437404358\n",
      "15 0.049363070990469944\n",
      "16 0.045900695020990485\n",
      "17 0.042876467556673216\n",
      "18 0.040213502264225064\n",
      "19 0.03785173146074724\n"
     ]
    }
   ],
   "source": [
    "for k in range(20):\n",
    "    \n",
    "    #forwards\n",
    "    ypred = [n(x) for x in xs]\n",
    "    loss = sum((yout - ygt)**2 for ygt, yout in zip(ys, ypred))\n",
    "    \n",
    "    #backwards\n",
    "    for p in n.parameters():\n",
    "        p.grad = 0.0 \n",
    "    loss.backward()\n",
    "    \n",
    "    #update\n",
    "    for p in n.parameters():\n",
    "        p.data += -0.05 *p.grad\n",
    "        \n",
    "    print(k, loss.data)"
   ]
  },
  {
   "cell_type": "code",
   "execution_count": 16,
   "id": "c9461b12",
   "metadata": {
    "execution": {
     "iopub.execute_input": "2023-12-05T07:56:54.199729Z",
     "iopub.status.busy": "2023-12-05T07:56:54.199319Z",
     "iopub.status.idle": "2023-12-05T07:56:54.205994Z",
     "shell.execute_reply": "2023-12-05T07:56:54.204826Z"
    },
    "papermill": {
     "duration": 0.018659,
     "end_time": "2023-12-05T07:56:54.208362",
     "exception": false,
     "start_time": "2023-12-05T07:56:54.189703",
     "status": "completed"
    },
    "tags": []
   },
   "outputs": [
    {
     "data": {
      "text/plain": [
       "[Value(data=0.8961294897651931),\n",
       " Value(data=-0.8950103826478647),\n",
       " Value(data=-0.890634774768275),\n",
       " Value(data=0.9361323530840975)]"
      ]
     },
     "execution_count": 16,
     "metadata": {},
     "output_type": "execute_result"
    }
   ],
   "source": [
    "ypred\n"
   ]
  },
  {
   "cell_type": "code",
   "execution_count": null,
   "id": "dde2654b",
   "metadata": {
    "papermill": {
     "duration": 0.008525,
     "end_time": "2023-12-05T07:56:54.225481",
     "exception": false,
     "start_time": "2023-12-05T07:56:54.216956",
     "status": "completed"
    },
    "tags": []
   },
   "outputs": [],
   "source": []
  }
 ],
 "metadata": {
  "kaggle": {
   "accelerator": "none",
   "dataSources": [],
   "dockerImageVersionId": 30587,
   "isGpuEnabled": false,
   "isInternetEnabled": false,
   "language": "python",
   "sourceType": "notebook"
  },
  "kernelspec": {
   "display_name": "Python 3",
   "language": "python",
   "name": "python3"
  },
  "language_info": {
   "codemirror_mode": {
    "name": "ipython",
    "version": 3
   },
   "file_extension": ".py",
   "mimetype": "text/x-python",
   "name": "python",
   "nbconvert_exporter": "python",
   "pygments_lexer": "ipython3",
   "version": "3.10.12"
  },
  "papermill": {
   "default_parameters": {},
   "duration": 8.499271,
   "end_time": "2023-12-05T07:56:55.057518",
   "environment_variables": {},
   "exception": null,
   "input_path": "__notebook__.ipynb",
   "output_path": "__notebook__.ipynb",
   "parameters": {},
   "start_time": "2023-12-05T07:56:46.558247",
   "version": "2.4.0"
  }
 },
 "nbformat": 4,
 "nbformat_minor": 5
}
